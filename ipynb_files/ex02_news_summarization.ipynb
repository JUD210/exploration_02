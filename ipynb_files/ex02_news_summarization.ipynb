{
 "cells": [
  {
   "cell_type": "markdown",
   "id": "7ef3e75d",
   "metadata": {},
   "source": [
    "# 3-4. 데이터 준비하기 | 15분"
   ]
  },
  {
   "cell_type": "code",
   "execution_count": 3,
   "id": "113265c9",
   "metadata": {},
   "outputs": [],
   "source": [
    "# mkdir -p ~/aiffel/news_summarization/data"
   ]
  },
  {
   "cell_type": "code",
   "execution_count": 4,
   "id": "6f74ac61",
   "metadata": {},
   "outputs": [],
   "source": [
    "# ln -s ~/data/*.csv ~/aiffel/news_summarization/data\n",
    "# ▼ 심볼릭 링크에서 복사로 변경\n",
    "# cp ~/data/*.csv ~/aiffel/news_summarization/data\n",
    "# ▼ 폴더 구조에 맞게 변경\n",
    "# cp ~/data/*.csv ../data"
   ]
  },
  {
   "cell_type": "code",
   "execution_count": null,
   "id": "fb9fe0e2",
   "metadata": {},
   "outputs": [],
   "source": []
  },
  {
   "cell_type": "markdown",
   "id": "728496d2",
   "metadata": {},
   "source": [
    "# 3-5. 데이터 전처리하기 (1) 데이터 정리하기 | 35분"
   ]
  },
  {
   "cell_type": "code",
   "execution_count": null,
   "id": "8411d269",
   "metadata": {},
   "outputs": [],
   "source": []
  },
  {
   "cell_type": "markdown",
   "id": "0dc30daf",
   "metadata": {},
   "source": [
    "# 3-6. 데이터 전처리하기 (2) 훈련데이터와 테스트데이터 나누기 | 30분"
   ]
  },
  {
   "cell_type": "code",
   "execution_count": null,
   "id": "f16558db",
   "metadata": {},
   "outputs": [],
   "source": []
  },
  {
   "cell_type": "markdown",
   "id": "00a6630c",
   "metadata": {},
   "source": [
    "# 3-7. 데이터 전처리하기 (3) 정수 인코딩 | 20분"
   ]
  },
  {
   "cell_type": "code",
   "execution_count": null,
   "id": "fa6f331a",
   "metadata": {},
   "outputs": [],
   "source": []
  },
  {
   "cell_type": "markdown",
   "id": "be7e8c0f",
   "metadata": {},
   "source": [
    "# 3-8. 모델 설계하기 | 30분"
   ]
  },
  {
   "cell_type": "code",
   "execution_count": null,
   "id": "f4976103",
   "metadata": {},
   "outputs": [],
   "source": []
  },
  {
   "cell_type": "markdown",
   "id": "9218af38",
   "metadata": {},
   "source": [
    "# 3-9. 모델 훈련하기 | 30분"
   ]
  },
  {
   "cell_type": "code",
   "execution_count": null,
   "id": "1c9e305c",
   "metadata": {},
   "outputs": [],
   "source": []
  },
  {
   "cell_type": "markdown",
   "id": "f4ec0733",
   "metadata": {},
   "source": [
    "# 3-10. 인퍼런스 모델 구현하기 | 30분"
   ]
  },
  {
   "cell_type": "code",
   "execution_count": null,
   "id": "27478499",
   "metadata": {},
   "outputs": [],
   "source": []
  },
  {
   "cell_type": "markdown",
   "id": "8ea419eb",
   "metadata": {},
   "source": [
    "# 3-11. 모델 테스트하기 | 15분"
   ]
  },
  {
   "cell_type": "code",
   "execution_count": null,
   "id": "6410f698",
   "metadata": {},
   "outputs": [],
   "source": []
  },
  {
   "cell_type": "markdown",
   "id": "24a1d85e",
   "metadata": {},
   "source": [
    "# 3-12. 추출적 요약 해보기 | 20분"
   ]
  },
  {
   "cell_type": "code",
   "execution_count": null,
   "id": "52df8c64",
   "metadata": {},
   "outputs": [],
   "source": []
  }
 ],
 "metadata": {
  "kernelspec": {
   "display_name": "Python 3 (ipykernel)",
   "language": "python",
   "name": "python3"
  },
  "language_info": {
   "codemirror_mode": {
    "name": "ipython",
    "version": 3
   },
   "file_extension": ".py",
   "mimetype": "text/x-python",
   "name": "python",
   "nbconvert_exporter": "python",
   "pygments_lexer": "ipython3",
   "version": "3.9.7"
  }
 },
 "nbformat": 4,
 "nbformat_minor": 5
}
