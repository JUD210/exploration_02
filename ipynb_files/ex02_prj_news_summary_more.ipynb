{
 "cells": [
  {
   "cell_type": "markdown",
   "id": "11f6b127",
   "metadata": {},
   "source": [
    "# 참고"
   ]
  },
  {
   "cell_type": "markdown",
   "id": "fe7a5d6f",
   "metadata": {},
   "source": [
    "- \\#@ : 단순 노트\n",
    "- \\#@KeyNote : 핵심 개념 노트\n",
    "- \\#@TODO : 당장 해야할 것들"
   ]
  },
  {
   "cell_type": "markdown",
   "id": "48f2f543",
   "metadata": {},
   "source": [
    "# 프로젝트: 뉴스기사 요약해보기"
   ]
  },
  {
   "cell_type": "code",
   "execution_count": 1,
   "id": "7cdcb834",
   "metadata": {},
   "outputs": [
    {
     "name": "stdout",
     "output_type": "stream",
     "text": [
      "3.6.5\n",
      "2.6.0\n",
      "1.3.3\n",
      "1.2.0\n"
     ]
    }
   ],
   "source": [
    "from importlib.metadata import version\n",
    "import nltk\n",
    "import tensorflow\n",
    "import summa\n",
    "import pandas as pd\n",
    "import numpy as np\n",
    "import os\n",
    "import re\n",
    "import matplotlib.pyplot as plt\n",
    "from nltk.corpus import stopwords\n",
    "from bs4 import BeautifulSoup \n",
    "from tensorflow.keras.preprocessing.text import Tokenizer \n",
    "from tensorflow.keras.preprocessing.sequence import pad_sequences\n",
    "import urllib.request\n",
    "import warnings\n",
    "warnings.filterwarnings(\"ignore\", category=UserWarning, module='bs4')\n",
    "\n",
    "print(nltk.__version__)\n",
    "print(tensorflow.__version__)\n",
    "print(pd.__version__)\n",
    "print(version('summa'))"
   ]
  },
  {
   "cell_type": "markdown",
   "id": "0382c385",
   "metadata": {},
   "source": [
    "# Step 1. 데이터 수집하기"
   ]
  },
  {
   "cell_type": "markdown",
   "id": "c745e860",
   "metadata": {},
   "source": [
    "이 데이터는 기사의 본문에 해당되는 text와 headlines 두 가지 열로 구성되어져 있습니다.\n",
    "\n",
    "추상적 요약을 하는 경우에는 text를 본문, headlines를 이미 요약된 데이터로 삼아서 모델을 학습할 수 있어요. 추출적 요약을 하는 경우에는 오직 text열만을 사용하세요."
   ]
  },
  {
   "cell_type": "code",
   "execution_count": 2,
   "id": "7691c2c5",
   "metadata": {},
   "outputs": [],
   "source": [
    "import urllib.request\n",
    "urllib.request.urlretrieve(\"https://raw.githubusercontent.com/sunnysai12345/News_Summary/master/news_summary_more.csv\", filename=\"../data/news_summary_more.csv\")\n",
    "data = pd.read_csv('../data/news_summary_more.csv', encoding='iso-8859-1')"
   ]
  },
  {
   "cell_type": "code",
   "execution_count": 3,
   "id": "3aef17b2",
   "metadata": {},
   "outputs": [
    {
     "data": {
      "text/html": [
       "<div>\n",
       "<style scoped>\n",
       "    .dataframe tbody tr th:only-of-type {\n",
       "        vertical-align: middle;\n",
       "    }\n",
       "\n",
       "    .dataframe tbody tr th {\n",
       "        vertical-align: top;\n",
       "    }\n",
       "\n",
       "    .dataframe thead th {\n",
       "        text-align: right;\n",
       "    }\n",
       "</style>\n",
       "<table border=\"1\" class=\"dataframe\">\n",
       "  <thead>\n",
       "    <tr style=\"text-align: right;\">\n",
       "      <th></th>\n",
       "      <th>headlines</th>\n",
       "      <th>text</th>\n",
       "    </tr>\n",
       "  </thead>\n",
       "  <tbody>\n",
       "    <tr>\n",
       "      <th>26620</th>\n",
       "      <td>Video shows fans misbehaving with Katrina Kaif...</td>\n",
       "      <td>A video which shows Katrina Kaif being heckled...</td>\n",
       "    </tr>\n",
       "    <tr>\n",
       "      <th>15794</th>\n",
       "      <td>Falahari Baba given life imprisonment for rapi...</td>\n",
       "      <td>Falahari Baba, a self-styled godman was senten...</td>\n",
       "    </tr>\n",
       "    <tr>\n",
       "      <th>26569</th>\n",
       "      <td>Tesla's new factory in China to produce 5 lakh...</td>\n",
       "      <td>Tesla on Tuesday reached an agreement with Sha...</td>\n",
       "    </tr>\n",
       "    <tr>\n",
       "      <th>14395</th>\n",
       "      <td>20 die as limo carrying wedding party crashes ...</td>\n",
       "      <td>As many as 20 people were killed when a limous...</td>\n",
       "    </tr>\n",
       "    <tr>\n",
       "      <th>14255</th>\n",
       "      <td>2 Vyapam scam whistleblowers to contest Madhya...</td>\n",
       "      <td>Two Vyapam scam whistleblowers, namely Dr Anan...</td>\n",
       "    </tr>\n",
       "    <tr>\n",
       "      <th>22594</th>\n",
       "      <td>Mehbooba Mufti replies to Omar Abdullah with l...</td>\n",
       "      <td>Responding to former Jammu and Kashmir CM Omar...</td>\n",
       "    </tr>\n",
       "    <tr>\n",
       "      <th>7116</th>\n",
       "      <td>9-year-old boy drops to floor, crawls out of r...</td>\n",
       "      <td>A video shows a 9-year-old boy, who was overwh...</td>\n",
       "    </tr>\n",
       "    <tr>\n",
       "      <th>66871</th>\n",
       "      <td>President Kovind invites people to visit Rasht...</td>\n",
       "      <td>President Ram Nath Kovind took to Twitter to i...</td>\n",
       "    </tr>\n",
       "    <tr>\n",
       "      <th>66280</th>\n",
       "      <td>Hayden took 10 hours to slam then highest Test...</td>\n",
       "      <td>Former Australian opener Matthew Hayden smashe...</td>\n",
       "    </tr>\n",
       "    <tr>\n",
       "      <th>85879</th>\n",
       "      <td>3 Indian male badminton players in top-15 for ...</td>\n",
       "      <td>For the first time in Indian badminton's histo...</td>\n",
       "    </tr>\n",
       "  </tbody>\n",
       "</table>\n",
       "</div>"
      ],
      "text/plain": [
       "                                               headlines  \\\n",
       "26620  Video shows fans misbehaving with Katrina Kaif...   \n",
       "15794  Falahari Baba given life imprisonment for rapi...   \n",
       "26569  Tesla's new factory in China to produce 5 lakh...   \n",
       "14395  20 die as limo carrying wedding party crashes ...   \n",
       "14255  2 Vyapam scam whistleblowers to contest Madhya...   \n",
       "22594  Mehbooba Mufti replies to Omar Abdullah with l...   \n",
       "7116   9-year-old boy drops to floor, crawls out of r...   \n",
       "66871  President Kovind invites people to visit Rasht...   \n",
       "66280  Hayden took 10 hours to slam then highest Test...   \n",
       "85879  3 Indian male badminton players in top-15 for ...   \n",
       "\n",
       "                                                    text  \n",
       "26620  A video which shows Katrina Kaif being heckled...  \n",
       "15794  Falahari Baba, a self-styled godman was senten...  \n",
       "26569  Tesla on Tuesday reached an agreement with Sha...  \n",
       "14395  As many as 20 people were killed when a limous...  \n",
       "14255  Two Vyapam scam whistleblowers, namely Dr Anan...  \n",
       "22594  Responding to former Jammu and Kashmir CM Omar...  \n",
       "7116   A video shows a 9-year-old boy, who was overwh...  \n",
       "66871  President Ram Nath Kovind took to Twitter to i...  \n",
       "66280  Former Australian opener Matthew Hayden smashe...  \n",
       "85879  For the first time in Indian badminton's histo...  "
      ]
     },
     "execution_count": 3,
     "metadata": {},
     "output_type": "execute_result"
    }
   ],
   "source": [
    "data.sample(10)"
   ]
  },
  {
   "cell_type": "code",
   "execution_count": 4,
   "id": "2831199b",
   "metadata": {},
   "outputs": [],
   "source": [
    "#@KeyNote 기존 코드 활용을 쉽게 하기 위해서 이름 변경.\n",
    "\n",
    "# 컬럼 이름 변경\n",
    "data.rename(columns={'headlines': 'Summary', 'text': 'Text'}, inplace=True)\n",
    "\n",
    "# 컬럼 순서 변경\n",
    "data = data[['Text', 'Summary']]"
   ]
  },
  {
   "cell_type": "code",
   "execution_count": 5,
   "id": "a1063556",
   "metadata": {},
   "outputs": [
    {
     "data": {
      "text/html": [
       "<div>\n",
       "<style scoped>\n",
       "    .dataframe tbody tr th:only-of-type {\n",
       "        vertical-align: middle;\n",
       "    }\n",
       "\n",
       "    .dataframe tbody tr th {\n",
       "        vertical-align: top;\n",
       "    }\n",
       "\n",
       "    .dataframe thead th {\n",
       "        text-align: right;\n",
       "    }\n",
       "</style>\n",
       "<table border=\"1\" class=\"dataframe\">\n",
       "  <thead>\n",
       "    <tr style=\"text-align: right;\">\n",
       "      <th></th>\n",
       "      <th>Text</th>\n",
       "      <th>Summary</th>\n",
       "    </tr>\n",
       "  </thead>\n",
       "  <tbody>\n",
       "    <tr>\n",
       "      <th>44589</th>\n",
       "      <td>Amid various incidents of statue vandalism acr...</td>\n",
       "      <td>Lenin statue razing in Tripura wasn't vandalis...</td>\n",
       "    </tr>\n",
       "    <tr>\n",
       "      <th>57873</th>\n",
       "      <td>Social media major Facebook's Messenger report...</td>\n",
       "      <td>Facebook Messenger faces global outage: Report</td>\n",
       "    </tr>\n",
       "    <tr>\n",
       "      <th>79391</th>\n",
       "      <td>A five-year-old girl was fined ÃÂ£150 (Ã¢ÂÂ¹...</td>\n",
       "      <td>Five-year-old girl fined Ã¢ÂÂ¹12,500 for runn...</td>\n",
       "    </tr>\n",
       "    <tr>\n",
       "      <th>42063</th>\n",
       "      <td>As per reports, Pooja Hegde will star in the u...</td>\n",
       "      <td>Pooja Hegde to star in Housefull 4: Reports</td>\n",
       "    </tr>\n",
       "    <tr>\n",
       "      <th>77906</th>\n",
       "      <td>Delhi's Department of Environment is reportedl...</td>\n",
       "      <td>Delhi government to fix rules for road dust di...</td>\n",
       "    </tr>\n",
       "    <tr>\n",
       "      <th>86728</th>\n",
       "      <td>Abhishek Bachchan on Instagram shared a pictur...</td>\n",
       "      <td>Abhishek posts pic from when father Amitabh wa...</td>\n",
       "    </tr>\n",
       "    <tr>\n",
       "      <th>12866</th>\n",
       "      <td>Advertising company Publicis India has sacked ...</td>\n",
       "      <td>Publicis India fires senior exec accused of se...</td>\n",
       "    </tr>\n",
       "    <tr>\n",
       "      <th>58899</th>\n",
       "      <td>While talking at IFFI 2017 about how cinema is...</td>\n",
       "      <td>In a theatre, we never ask caste of person nex...</td>\n",
       "    </tr>\n",
       "    <tr>\n",
       "      <th>17346</th>\n",
       "      <td>US President Donald Trump's former campaign ch...</td>\n",
       "      <td>Ex-Trump campaign chief pleads guilty to consp...</td>\n",
       "    </tr>\n",
       "    <tr>\n",
       "      <th>24946</th>\n",
       "      <td>The Bihar government led by CM Nitish Kumar wi...</td>\n",
       "      <td>Bihar to grant reservation in promotion to SC/...</td>\n",
       "    </tr>\n",
       "  </tbody>\n",
       "</table>\n",
       "</div>"
      ],
      "text/plain": [
       "                                                    Text  \\\n",
       "44589  Amid various incidents of statue vandalism acr...   \n",
       "57873  Social media major Facebook's Messenger report...   \n",
       "79391  A five-year-old girl was fined ÃÂ£150 (Ã¢ÂÂ¹...   \n",
       "42063  As per reports, Pooja Hegde will star in the u...   \n",
       "77906  Delhi's Department of Environment is reportedl...   \n",
       "86728  Abhishek Bachchan on Instagram shared a pictur...   \n",
       "12866  Advertising company Publicis India has sacked ...   \n",
       "58899  While talking at IFFI 2017 about how cinema is...   \n",
       "17346  US President Donald Trump's former campaign ch...   \n",
       "24946  The Bihar government led by CM Nitish Kumar wi...   \n",
       "\n",
       "                                                 Summary  \n",
       "44589  Lenin statue razing in Tripura wasn't vandalis...  \n",
       "57873     Facebook Messenger faces global outage: Report  \n",
       "79391  Five-year-old girl fined Ã¢ÂÂ¹12,500 for runn...  \n",
       "42063        Pooja Hegde to star in Housefull 4: Reports  \n",
       "77906  Delhi government to fix rules for road dust di...  \n",
       "86728  Abhishek posts pic from when father Amitabh wa...  \n",
       "12866  Publicis India fires senior exec accused of se...  \n",
       "58899  In a theatre, we never ask caste of person nex...  \n",
       "17346  Ex-Trump campaign chief pleads guilty to consp...  \n",
       "24946  Bihar to grant reservation in promotion to SC/...  "
      ]
     },
     "execution_count": 5,
     "metadata": {},
     "output_type": "execute_result"
    }
   ],
   "source": [
    "# 결과 확인\n",
    "data.sample(10)"
   ]
  },
  {
   "cell_type": "code",
   "execution_count": 6,
   "id": "20d7e3ef",
   "metadata": {},
   "outputs": [
    {
     "name": "stdout",
     "output_type": "stream",
     "text": [
      "[Text]         Addressing an election rally in poll-bound Karnataka on Tuesday, Prime Minister Narendra Modi said that while the government talks about enhancing 'Ease of Doing Business', Congress believes in 'Ease of Doing Murder'. \"This is the culture they have developed,\" he added. Further, talking about murders of BJP workers in the state, he said, \"Violence cannot exist in a democracy.\"\n",
      " -> 379문자\n",
      "\n",
      "[Summary]    Congress believes in 'Ease of Doing Murder': PM in K'taka\n",
      " -> 57문자\n",
      "\n",
      "\n",
      "\n",
      "[Text]         Pakistan-born South African spinner Imran Tahir posted a tweet in Tamil ahead of the Indian Premier League 2018 opener on Saturday. The 39-year-old spinner, who represents Chennai Super Kings in the T20 league, shared a picture of his jersey and wrote, \"ItÃ¢ÂÂs time to start the vehicle and finish the job quick. Whistle podu!\"\n",
      " -> 330문자\n",
      "\n",
      "[Summary]    Pak-born SA cricketer Tahir tweets in Tamil ahead of IPL\n",
      " -> 56문자\n",
      "\n",
      "\n",
      "\n"
     ]
    }
   ],
   "source": [
    "#@ 몇 글자 뜨는지 보고 싶어서 구현\n",
    "for _, row in data.sample(2).iterrows():\n",
    "    print(f\"[Text]         {row['Text']}\\n -> {len(row['Text'])}문자\\n\")\n",
    "    print(f\"[Summary]    {row['Summary']}\\n -> {len(row['Summary'])}문자\")\n",
    "    print(\"\\n\\n\")\n"
   ]
  },
  {
   "cell_type": "markdown",
   "id": "f7a10d29",
   "metadata": {},
   "source": [
    "# Step 2. 데이터 전처리하기 (추상적 요약)"
   ]
  },
  {
   "cell_type": "markdown",
   "id": "361ecc9b",
   "metadata": {},
   "source": [
    "실습에서 사용된 전처리를 참고하여 각자 필요하다고 생각하는 전처리를 추가 사용하여 텍스트를 정규화 또는 정제해 보세요. 만약, 불용어 제거를 선택한다면 상대적으로 길이가 짧은 요약 데이터에 대해서도 불용어를 제거하는 것이 좋을지 고민해 보세요."
   ]
  },
  {
   "cell_type": "markdown",
   "id": "a13f4eea",
   "metadata": {},
   "source": [
    "- Abstractive한 문장 요약 결과문이 자연스러운 문장이 되려면 불용어들이 Summary에는 남아 있는 게 더 좋을 것 같음."
   ]
  },
  {
   "cell_type": "markdown",
   "id": "368a8e47",
   "metadata": {},
   "source": [
    "## 데이터 전처리하기 (1) 데이터 정리하기"
   ]
  },
  {
   "cell_type": "markdown",
   "id": "f5603542",
   "metadata": {},
   "source": [
    "### 중복 샘플과 NULL 값이 존재하는 샘플 제거"
   ]
  },
  {
   "cell_type": "code",
   "execution_count": 7,
   "id": "4af3a108",
   "metadata": {},
   "outputs": [
    {
     "name": "stdout",
     "output_type": "stream",
     "text": [
      "Text 열에서 중복을 배제한 유일한 샘플의 수 : 98360\n",
      "Summary 열에서 중복을 배제한 유일한 샘플의 수 : 98280\n"
     ]
    }
   ],
   "source": [
    "print('Text 열에서 중복을 배제한 유일한 샘플의 수 :', data['Text'].nunique())\n",
    "print('Summary 열에서 중복을 배제한 유일한 샘플의 수 :', data['Summary'].nunique())"
   ]
  },
  {
   "cell_type": "code",
   "execution_count": 8,
   "id": "b71fdd02",
   "metadata": {},
   "outputs": [
    {
     "name": "stdout",
     "output_type": "stream",
     "text": [
      "전체 샘플수 : 98360\n"
     ]
    }
   ],
   "source": [
    "# inplace=True 를 설정하면 DataFrame 타입 값을 return 하지 않고 data 내부를 직접적으로 바꿉니다\n",
    "data.drop_duplicates(subset = ['Text'], inplace=True)\n",
    "print('전체 샘플수 :', (len(data)))"
   ]
  },
  {
   "cell_type": "code",
   "execution_count": 9,
   "id": "a8d8ba1d",
   "metadata": {},
   "outputs": [
    {
     "name": "stdout",
     "output_type": "stream",
     "text": [
      "Text       0\n",
      "Summary    0\n",
      "dtype: int64\n"
     ]
    }
   ],
   "source": [
    "print(data.isnull().sum())"
   ]
  },
  {
   "cell_type": "code",
   "execution_count": 10,
   "id": "5764d618",
   "metadata": {},
   "outputs": [
    {
     "name": "stdout",
     "output_type": "stream",
     "text": [
      "전체 샘플수 : 98360\n"
     ]
    }
   ],
   "source": [
    "#@ 데이터셋의 'Text' 자체에 비어있는 게 없으므로 무의미하지만, 템플릿 느낌으로 포함.\n",
    "data.dropna(axis=0, inplace=True)\n",
    "print('전체 샘플수 :', (len(data)))"
   ]
  },
  {
   "cell_type": "markdown",
   "id": "99703b79",
   "metadata": {},
   "source": [
    "### 텍스트 정규화와 불용어 제거"
   ]
  },
  {
   "cell_type": "markdown",
   "id": "3f70ea78",
   "metadata": {},
   "source": [
    "정규화 사전 출처\n",
    "https://stackoverflow.com/questions/19790188/expanding-english-language-contractions-in-python"
   ]
  },
  {
   "cell_type": "code",
   "execution_count": 11,
   "id": "e8f91754",
   "metadata": {},
   "outputs": [
    {
     "name": "stdout",
     "output_type": "stream",
     "text": [
      "정규화 사전의 수:  120\n"
     ]
    }
   ],
   "source": [
    "contractions = {\"ain't\": \"is not\", \"aren't\": \"are not\",\"can't\": \"cannot\", \"'cause\": \"because\", \"could've\": \"could have\", \"couldn't\": \"could not\",\n",
    "                           \"didn't\": \"did not\",  \"doesn't\": \"does not\", \"don't\": \"do not\", \"hadn't\": \"had not\", \"hasn't\": \"has not\", \"haven't\": \"have not\",\n",
    "                           \"he'd\": \"he would\",\"he'll\": \"he will\", \"he's\": \"he is\", \"how'd\": \"how did\", \"how'd'y\": \"how do you\", \"how'll\": \"how will\", \"how's\": \"how is\",\n",
    "                           \"I'd\": \"I would\", \"I'd've\": \"I would have\", \"I'll\": \"I will\", \"I'll've\": \"I will have\",\"I'm\": \"I am\", \"I've\": \"I have\", \"i'd\": \"i would\",\n",
    "                           \"i'd've\": \"i would have\", \"i'll\": \"i will\",  \"i'll've\": \"i will have\",\"i'm\": \"i am\", \"i've\": \"i have\", \"isn't\": \"is not\", \"it'd\": \"it would\",\n",
    "                           \"it'd've\": \"it would have\", \"it'll\": \"it will\", \"it'll've\": \"it will have\",\"it's\": \"it is\", \"let's\": \"let us\", \"ma'am\": \"madam\",\n",
    "                           \"mayn't\": \"may not\", \"might've\": \"might have\",\"mightn't\": \"might not\",\"mightn't've\": \"might not have\", \"must've\": \"must have\",\n",
    "                           \"mustn't\": \"must not\", \"mustn't've\": \"must not have\", \"needn't\": \"need not\", \"needn't've\": \"need not have\",\"o'clock\": \"of the clock\",\n",
    "                           \"oughtn't\": \"ought not\", \"oughtn't've\": \"ought not have\", \"shan't\": \"shall not\", \"sha'n't\": \"shall not\", \"shan't've\": \"shall not have\",\n",
    "                           \"she'd\": \"she would\", \"she'd've\": \"she would have\", \"she'll\": \"she will\", \"she'll've\": \"she will have\", \"she's\": \"she is\",\n",
    "                           \"should've\": \"should have\", \"shouldn't\": \"should not\", \"shouldn't've\": \"should not have\", \"so've\": \"so have\",\"so's\": \"so as\",\n",
    "                           \"this's\": \"this is\",\"that'd\": \"that would\", \"that'd've\": \"that would have\", \"that's\": \"that is\", \"there'd\": \"there would\",\n",
    "                           \"there'd've\": \"there would have\", \"there's\": \"there is\", \"here's\": \"here is\",\"they'd\": \"they would\", \"they'd've\": \"they would have\",\n",
    "                           \"they'll\": \"they will\", \"they'll've\": \"they will have\", \"they're\": \"they are\", \"they've\": \"they have\", \"to've\": \"to have\",\n",
    "                           \"wasn't\": \"was not\", \"we'd\": \"we would\", \"we'd've\": \"we would have\", \"we'll\": \"we will\", \"we'll've\": \"we will have\", \"we're\": \"we are\",\n",
    "                           \"we've\": \"we have\", \"weren't\": \"were not\", \"what'll\": \"what will\", \"what'll've\": \"what will have\", \"what're\": \"what are\",\n",
    "                           \"what's\": \"what is\", \"what've\": \"what have\", \"when's\": \"when is\", \"when've\": \"when have\", \"where'd\": \"where did\", \"where's\": \"where is\",\n",
    "                           \"where've\": \"where have\", \"who'll\": \"who will\", \"who'll've\": \"who will have\", \"who's\": \"who is\", \"who've\": \"who have\",\n",
    "                           \"why's\": \"why is\", \"why've\": \"why have\", \"will've\": \"will have\", \"won't\": \"will not\", \"won't've\": \"will not have\",\n",
    "                           \"would've\": \"would have\", \"wouldn't\": \"would not\", \"wouldn't've\": \"would not have\", \"y'all\": \"you all\",\n",
    "                           \"y'all'd\": \"you all would\",\"y'all'd've\": \"you all would have\",\"y'all're\": \"you all are\",\"y'all've\": \"you all have\",\n",
    "                           \"you'd\": \"you would\", \"you'd've\": \"you would have\", \"you'll\": \"you will\", \"you'll've\": \"you will have\",\n",
    "                           \"you're\": \"you are\", \"you've\": \"you have\"}\n",
    "\n",
    "print(\"정규화 사전의 수: \", len(contractions))"
   ]
  },
  {
   "cell_type": "code",
   "execution_count": 12,
   "id": "4556b17e",
   "metadata": {},
   "outputs": [
    {
     "name": "stdout",
     "output_type": "stream",
     "text": [
      "불용어 개수 : 179\n",
      "['i', 'me', 'my', 'myself', 'we', 'our', 'ours', 'ourselves', 'you', \"you're\", \"you've\", \"you'll\", \"you'd\", 'your', 'yours', 'yourself', 'yourselves', 'he', 'him', 'his', 'himself', 'she', \"she's\", 'her', 'hers', 'herself', 'it', \"it's\", 'its', 'itself', 'they', 'them', 'their', 'theirs', 'themselves', 'what', 'which', 'who', 'whom', 'this', 'that', \"that'll\", 'these', 'those', 'am', 'is', 'are', 'was', 'were', 'be', 'been', 'being', 'have', 'has', 'had', 'having', 'do', 'does', 'did', 'doing', 'a', 'an', 'the', 'and', 'but', 'if', 'or', 'because', 'as', 'until', 'while', 'of', 'at', 'by', 'for', 'with', 'about', 'against', 'between', 'into', 'through', 'during', 'before', 'after', 'above', 'below', 'to', 'from', 'up', 'down', 'in', 'out', 'on', 'off', 'over', 'under', 'again', 'further', 'then', 'once', 'here', 'there', 'when', 'where', 'why', 'how', 'all', 'any', 'both', 'each', 'few', 'more', 'most', 'other', 'some', 'such', 'no', 'nor', 'not', 'only', 'own', 'same', 'so', 'than', 'too', 'very', 's', 't', 'can', 'will', 'just', 'don', \"don't\", 'should', \"should've\", 'now', 'd', 'll', 'm', 'o', 're', 've', 'y', 'ain', 'aren', \"aren't\", 'couldn', \"couldn't\", 'didn', \"didn't\", 'doesn', \"doesn't\", 'hadn', \"hadn't\", 'hasn', \"hasn't\", 'haven', \"haven't\", 'isn', \"isn't\", 'ma', 'mightn', \"mightn't\", 'mustn', \"mustn't\", 'needn', \"needn't\", 'shan', \"shan't\", 'shouldn', \"shouldn't\", 'wasn', \"wasn't\", 'weren', \"weren't\", 'won', \"won't\", 'wouldn', \"wouldn't\"]\n"
     ]
    },
    {
     "name": "stderr",
     "output_type": "stream",
     "text": [
      "[nltk_data] Downloading package stopwords to /aiffel/nltk_data...\n",
      "[nltk_data]   Unzipping corpora/stopwords.zip.\n"
     ]
    }
   ],
   "source": [
    "nltk.download('stopwords')\n",
    "\n",
    "print('불용어 개수 :', len(stopwords.words('english') ))\n",
    "print(stopwords.words('english'))"
   ]
  },
  {
   "cell_type": "code",
   "execution_count": 13,
   "id": "828d692c",
   "metadata": {},
   "outputs": [],
   "source": [
    "# 데이터 전처리 함수\n",
    "def preprocess_sentence(sentence, remove_stopwords=True):\n",
    "    sentence = sentence.lower() # 텍스트 소문자화\n",
    "    sentence = BeautifulSoup(sentence, \"lxml\").text # <br />, <a href = ...> 등의 html 태그 제거\n",
    "    sentence = re.sub(r'\\([^)]*\\)', '', sentence) # 괄호로 닫힌 문자열 (...) 제거 Ex) my husband (and myself!) for => my husband for\n",
    "    sentence = re.sub('\"','', sentence) # 쌍따옴표 \" 제거\n",
    "    sentence = ' '.join([contractions[t] if t in contractions else t for t in sentence.split(\" \")]) # 약어 정규화\n",
    "    sentence = re.sub(r\"'s\\b\",\"\", sentence) # 소유격 제거. Ex) roland's -> roland\n",
    "    sentence = re.sub(\"[^a-zA-Z]\", \" \", sentence) # 영어 외 문자(숫자, 특수문자 등) 공백으로 변환\n",
    "    sentence = re.sub('[m]{2,}', 'mm', sentence) # m이 3개 이상이면 2개로 변경. Ex) ummmmmmm yeah -> umm yeah\n",
    "    \n",
    "    # 불용어 제거 (Text)\n",
    "    if remove_stopwords:\n",
    "        tokens = ' '.join(word for word in sentence.split() if not word in stopwords.words('english') if len(word) > 1)\n",
    "    # 불용어 미제거 (Summary)\n",
    "    else:\n",
    "        tokens = ' '.join(word for word in sentence.split() if len(word) > 1)\n",
    "    return tokens"
   ]
  },
  {
   "cell_type": "code",
   "execution_count": 14,
   "id": "950f7dce",
   "metadata": {},
   "outputs": [
    {
     "name": "stdout",
     "output_type": "stream",
     "text": [
      "=== Text:    \n",
      "    The Madras High Court on Tuesday declined a PIL seeking to ban 'rekla race', or bullock cart race, in Tamil Nadu in view of a Supreme Court order banning such events. The state government had, however, brought in an amendment allowing 'Jallikattu'. The petitioner pointed out that the amendment only made an exception for 'Jallikattu', and not bullock cart races.\n",
      " => madras high court tuesday declined pil seeking ban rekla race bullock cart race tamil nadu view supreme court order banning events state government however brought amendment allowing jallikattu petitioner pointed amendment made exception jallikattu bullock cart races\n",
      "=== Summary:    \n",
      "    Madras HC refuses to ban bullock cart races in Tamil Nadu\n",
      " => madras hc refuses ban bullock cart races tamil nadu\n"
     ]
    }
   ],
   "source": [
    "# 전처리 후 차이점 살펴보기\n",
    "for _, row in data.sample(1).iterrows():\n",
    "    print(f\"=== Text:    \\n    {row['Text']}\\n => {preprocess_sentence(row['Text'])}\")\n",
    "    print(f\"=== Summary:    \\n    {row['Summary']}\\n => {preprocess_sentence(row['Summary'])}\")\n",
    "    "
   ]
  },
  {
   "cell_type": "code",
   "execution_count": 15,
   "id": "1a1ac9c4",
   "metadata": {},
   "outputs": [
    {
     "name": "stdout",
     "output_type": "stream",
     "text": [
      "Text 전처리 후 결과:  ['saurav kant alumnus upgrad iiit pg program machine learning artificial intelligence sr systems engineer infosys almost years work experience program upgrad degree career support helped transition data scientist tech mahindra salary hike upgrad online power learning powered lakh careers', 'kunal shah credit card bill payment platform cred gave users chance win free food swiggy one year pranav kaushik delhi techie bagged reward spending cred coins users get one cred coin per rupee bill paid used avail rewards brands like ixigo bookmyshow ubereats cult fit']\n"
     ]
    }
   ],
   "source": [
    "# 전체 Text 데이터에 대한 전처리\n",
    "clean_text = []\n",
    "\n",
    "for sentence in data['Text']:\n",
    "    #@ 불용어 제거: 텍스트 길이가 길기 때문\n",
    "    processed_sentence = preprocess_sentence(sentence, remove_stopwords=True)\n",
    "    clean_text.append(processed_sentence)\n",
    "\n",
    "# 전처리 후 출력\n",
    "print(\"Text 전처리 후 결과: \", clean_text[:2])"
   ]
  },
  {
   "cell_type": "code",
   "execution_count": 18,
   "id": "dcf4c0cb",
   "metadata": {},
   "outputs": [
    {
     "name": "stdout",
     "output_type": "stream",
     "text": [
      "Summary 전처리 후 결과:  ['upgrad learner switches to career in ml al with salary hike', 'delhi techie wins free food from swiggy for one year on cred']\n"
     ]
    }
   ],
   "source": [
    "# 전체 Summary 데이터에 대한 전처리\n",
    "clean_summaries = []\n",
    "\n",
    "for sentence in data['Summary']:\n",
    "    #@ 불용어 제거하지 않음: 텍스트 길이가 짧아서 주요 정보 소실될 수 있음.\n",
    "    processed_sentence = preprocess_sentence(sentence, remove_stopwords=False)  \n",
    "    clean_summaries.append(processed_sentence)\n",
    "\n",
    "print(\"Summary 전처리 후 결과: \", clean_summaries[:2])"
   ]
  },
  {
   "cell_type": "code",
   "execution_count": 20,
   "id": "50faf4d5",
   "metadata": {},
   "outputs": [],
   "source": [
    "data['Text'] = clean_text\n",
    "data['Summary'] = clean_summaries\n",
    "\n",
    "# 빈 값을 Null 값으로 변환\n",
    "data.replace('', np.nan, inplace=True)"
   ]
  },
  {
   "cell_type": "code",
   "execution_count": 21,
   "id": "37da7480",
   "metadata": {},
   "outputs": [
    {
     "data": {
      "text/html": [
       "<div>\n",
       "<style scoped>\n",
       "    .dataframe tbody tr th:only-of-type {\n",
       "        vertical-align: middle;\n",
       "    }\n",
       "\n",
       "    .dataframe tbody tr th {\n",
       "        vertical-align: top;\n",
       "    }\n",
       "\n",
       "    .dataframe thead th {\n",
       "        text-align: right;\n",
       "    }\n",
       "</style>\n",
       "<table border=\"1\" class=\"dataframe\">\n",
       "  <thead>\n",
       "    <tr style=\"text-align: right;\">\n",
       "      <th></th>\n",
       "      <th>Text</th>\n",
       "      <th>Summary</th>\n",
       "    </tr>\n",
       "  </thead>\n",
       "  <tbody>\n",
       "    <tr>\n",
       "      <th>0</th>\n",
       "      <td>saurav kant alumnus upgrad iiit pg program mac...</td>\n",
       "      <td>upgrad learner switches to career in ml al wit...</td>\n",
       "    </tr>\n",
       "    <tr>\n",
       "      <th>1</th>\n",
       "      <td>kunal shah credit card bill payment platform c...</td>\n",
       "      <td>delhi techie wins free food from swiggy for on...</td>\n",
       "    </tr>\n",
       "    <tr>\n",
       "      <th>2</th>\n",
       "      <td>new zealand defeated india wickets fourth odi ...</td>\n",
       "      <td>new zealand end rohit sharma led india match w...</td>\n",
       "    </tr>\n",
       "    <tr>\n",
       "      <th>3</th>\n",
       "      <td>aegon life iterm insurance plan customers enjo...</td>\n",
       "      <td>aegon life iterm insurance plan helps customer...</td>\n",
       "    </tr>\n",
       "    <tr>\n",
       "      <th>4</th>\n",
       "      <td>speaking sexual harassment allegations rajkuma...</td>\n",
       "      <td>have known hirani for yrs what if metoo claims...</td>\n",
       "    </tr>\n",
       "  </tbody>\n",
       "</table>\n",
       "</div>"
      ],
      "text/plain": [
       "                                                Text  \\\n",
       "0  saurav kant alumnus upgrad iiit pg program mac...   \n",
       "1  kunal shah credit card bill payment platform c...   \n",
       "2  new zealand defeated india wickets fourth odi ...   \n",
       "3  aegon life iterm insurance plan customers enjo...   \n",
       "4  speaking sexual harassment allegations rajkuma...   \n",
       "\n",
       "                                             Summary  \n",
       "0  upgrad learner switches to career in ml al wit...  \n",
       "1  delhi techie wins free food from swiggy for on...  \n",
       "2  new zealand end rohit sharma led india match w...  \n",
       "3  aegon life iterm insurance plan helps customer...  \n",
       "4  have known hirani for yrs what if metoo claims...  "
      ]
     },
     "execution_count": 21,
     "metadata": {},
     "output_type": "execute_result"
    }
   ],
   "source": [
    "data.head()"
   ]
  },
  {
   "cell_type": "code",
   "execution_count": 22,
   "id": "2de925cb",
   "metadata": {},
   "outputs": [
    {
     "data": {
      "text/plain": [
       "Text       0\n",
       "Summary    0\n",
       "dtype: int64"
      ]
     },
     "execution_count": 22,
     "metadata": {},
     "output_type": "execute_result"
    }
   ],
   "source": [
    "data.isnull().sum()"
   ]
  },
  {
   "cell_type": "code",
   "execution_count": 23,
   "id": "c00221cf",
   "metadata": {},
   "outputs": [
    {
     "name": "stdout",
     "output_type": "stream",
     "text": [
      "전체 샘플수 : 98360\n"
     ]
    }
   ],
   "source": [
    "data.dropna(axis=0, inplace=True)\n",
    "print('전체 샘플수 :', (len(data)))"
   ]
  },
  {
   "cell_type": "markdown",
   "id": "cc33637a",
   "metadata": {},
   "source": [
    "## 데이터 전처리하기 (2) 훈련데이터와 테스트데이터 나누기"
   ]
  },
  {
   "cell_type": "markdown",
   "id": "da81c62e",
   "metadata": {},
   "source": [
    "### 샘플의 최대 길이 정하기"
   ]
  },
  {
   "cell_type": "code",
   "execution_count": 24,
   "id": "d0143e36",
   "metadata": {},
   "outputs": [
    {
     "name": "stdout",
     "output_type": "stream",
     "text": [
      "텍스트의 최소 길이 : 1\n",
      "텍스트의 최대 길이 : 60\n",
      "텍스트의 평균 길이 : 35.09968483123221\n",
      "요약의 최소 길이 : 1\n",
      "요약의 최대 길이 : 16\n",
      "요약의 평균 길이 : 9.299532330215534\n"
     ]
    },
    {
     "data": {
      "image/png": "[encoded data removed]",
      "text/plain": [
       "<Figure size 432x288 with 2 Axes>"
      ]
     },
     "metadata": {
      "needs_background": "light"
     },
     "output_type": "display_data"
    },
    {
     "data": {
      "image/png": "[encoded data removed]",
      "text/plain": [
       "<Figure size 432x288 with 1 Axes>"
      ]
     },
     "metadata": {
      "needs_background": "light"
     },
     "output_type": "display_data"
    },
    {
     "data": {
      "image/png": "[encoded data removed]",
      "text/plain": [
       "<Figure size 432x288 with 1 Axes>"
      ]
     },
     "metadata": {
      "needs_background": "light"
     },
     "output_type": "display_data"
    }
   ],
   "source": [
    "import matplotlib.pyplot as plt\n",
    "\n",
    "text_len = [len(s.split()) for s in data['Text']]\n",
    "summary_len = [len(s.split()) for s in data['Summary']]\n",
    "\n",
    "print('텍스트의 최소 길이 : {}'.format(np.min(text_len)))\n",
    "print('텍스트의 최대 길이 : {}'.format(np.max(text_len)))\n",
    "print('텍스트의 평균 길이 : {}'.format(np.mean(text_len)))\n",
    "print('요약의 최소 길이 : {}'.format(np.min(summary_len)))\n",
    "print('요약의 최대 길이 : {}'.format(np.max(summary_len)))\n",
    "print('요약의 평균 길이 : {}'.format(np.mean(summary_len)))\n",
    "\n",
    "plt.subplot(1,2,1)\n",
    "plt.boxplot(text_len)\n",
    "plt.title('Text')\n",
    "plt.subplot(1,2,2)\n",
    "plt.boxplot(summary_len)\n",
    "plt.title('Summary')\n",
    "plt.tight_layout()\n",
    "plt.show()\n",
    "\n",
    "plt.title('Text')\n",
    "plt.hist(text_len, bins = 40)\n",
    "plt.xlabel('length of samples')\n",
    "plt.ylabel('number of samples')\n",
    "plt.show()\n",
    "\n",
    "plt.title('Summary')\n",
    "plt.hist(summary_len, bins = 40)\n",
    "plt.xlabel('length of samples')\n",
    "plt.ylabel('number of samples')\n",
    "plt.show()"
   ]
  },
  {
   "cell_type": "code",
   "execution_count": 25,
   "id": "e4779272",
   "metadata": {},
   "outputs": [],
   "source": [
    "#@TODO: 적당한 길이 설정 필요함 (상의해봐야 함)\n",
    "# 상의 결과, 3사분위 (75%: 네모 박스 윗변)에 맞추기로 함.\n",
    "# 75~95%가 적절합니다. (GPT)\n",
    "# \n",
    "text_max_len = 40\n",
    "summary_max_len = 10"
   ]
  },
  {
   "cell_type": "code",
   "execution_count": 27,
   "id": "8c7f956c",
   "metadata": {},
   "outputs": [],
   "source": [
    "def below_threshold_len(max_len, nested_list):\n",
    "  cnt = 0\n",
    "  for s in nested_list:\n",
    "    if(len(s.split()) <= max_len):\n",
    "        cnt = cnt + 1\n",
    "  print('전체 샘플 중 길이가 %s 이하인 샘플의 비율: %s'%(max_len, (cnt / len(nested_list))))"
   ]
  },
  {
   "cell_type": "code",
   "execution_count": 28,
   "id": "80e245f0",
   "metadata": {},
   "outputs": [
    {
     "name": "stdout",
     "output_type": "stream",
     "text": [
      "전체 샘플 중 길이가 40 이하인 샘플의 비율: 0.9238714924766165\n",
      "전체 샘플 중 길이가 10 이하인 샘플의 비율: 0.8162972753151687\n"
     ]
    }
   ],
   "source": [
    "below_threshold_len(text_max_len, data['Text'])\n",
    "below_threshold_len(summary_max_len,  data['Summary'])"
   ]
  },
  {
   "cell_type": "code",
   "execution_count": 29,
   "id": "2a00a4e8",
   "metadata": {},
   "outputs": [
    {
     "name": "stdout",
     "output_type": "stream",
     "text": [
      "필터링 전 샘플 수: 98360\n",
      "필터링 후 샘플 수: 74102\n"
     ]
    }
   ],
   "source": [
    "# 조건에 맞는 샘플만 필터링\n",
    "filtered_data = data[\n",
    "    data['Text'].apply(lambda x: len(x.split()) <= text_max_len) &  # Text 길이 조건\n",
    "    data['Summary'].apply(lambda x: len(x.split()) <= summary_max_len)  # Summary 길이 조건\n",
    "]\n",
    "\n",
    "# 결과 출력\n",
    "print(f\"필터링 전 샘플 수: {len(data)}\")\n",
    "print(f\"필터링 후 샘플 수: {len(filtered_data)}\")"
   ]
  },
  {
   "cell_type": "markdown",
   "id": "ae31fa2b",
   "metadata": {},
   "source": [
    "### 시작 토큰과 종료 토큰 추가하기"
   ]
  },
  {
   "cell_type": "code",
   "execution_count": 30,
   "id": "e8286a0f",
   "metadata": {},
   "outputs": [
    {
     "data": {
      "text/html": [
       "<div>\n",
       "<style scoped>\n",
       "    .dataframe tbody tr th:only-of-type {\n",
       "        vertical-align: middle;\n",
       "    }\n",
       "\n",
       "    .dataframe tbody tr th {\n",
       "        vertical-align: top;\n",
       "    }\n",
       "\n",
       "    .dataframe thead th {\n",
       "        text-align: right;\n",
       "    }\n",
       "</style>\n",
       "<table border=\"1\" class=\"dataframe\">\n",
       "  <thead>\n",
       "    <tr style=\"text-align: right;\">\n",
       "      <th></th>\n",
       "      <th>Text</th>\n",
       "      <th>Summary</th>\n",
       "      <th>decoder_input</th>\n",
       "      <th>decoder_target</th>\n",
       "    </tr>\n",
       "  </thead>\n",
       "  <tbody>\n",
       "    <tr>\n",
       "      <th>0</th>\n",
       "      <td>saurav kant alumnus upgrad iiit pg program mac...</td>\n",
       "      <td>upgrad learner switches to career in ml al wit...</td>\n",
       "      <td>sostoken upgrad learner switches to career in ...</td>\n",
       "      <td>upgrad learner switches to career in ml al wit...</td>\n",
       "    </tr>\n",
       "    <tr>\n",
       "      <th>1</th>\n",
       "      <td>kunal shah credit card bill payment platform c...</td>\n",
       "      <td>delhi techie wins free food from swiggy for on...</td>\n",
       "      <td>sostoken delhi techie wins free food from swig...</td>\n",
       "      <td>delhi techie wins free food from swiggy for on...</td>\n",
       "    </tr>\n",
       "    <tr>\n",
       "      <th>2</th>\n",
       "      <td>new zealand defeated india wickets fourth odi ...</td>\n",
       "      <td>new zealand end rohit sharma led india match w...</td>\n",
       "      <td>sostoken new zealand end rohit sharma led indi...</td>\n",
       "      <td>new zealand end rohit sharma led india match w...</td>\n",
       "    </tr>\n",
       "    <tr>\n",
       "      <th>3</th>\n",
       "      <td>aegon life iterm insurance plan customers enjo...</td>\n",
       "      <td>aegon life iterm insurance plan helps customer...</td>\n",
       "      <td>sostoken aegon life iterm insurance plan helps...</td>\n",
       "      <td>aegon life iterm insurance plan helps customer...</td>\n",
       "    </tr>\n",
       "    <tr>\n",
       "      <th>4</th>\n",
       "      <td>speaking sexual harassment allegations rajkuma...</td>\n",
       "      <td>have known hirani for yrs what if metoo claims...</td>\n",
       "      <td>sostoken have known hirani for yrs what if met...</td>\n",
       "      <td>have known hirani for yrs what if metoo claims...</td>\n",
       "    </tr>\n",
       "  </tbody>\n",
       "</table>\n",
       "</div>"
      ],
      "text/plain": [
       "                                                Text  \\\n",
       "0  saurav kant alumnus upgrad iiit pg program mac...   \n",
       "1  kunal shah credit card bill payment platform c...   \n",
       "2  new zealand defeated india wickets fourth odi ...   \n",
       "3  aegon life iterm insurance plan customers enjo...   \n",
       "4  speaking sexual harassment allegations rajkuma...   \n",
       "\n",
       "                                             Summary  \\\n",
       "0  upgrad learner switches to career in ml al wit...   \n",
       "1  delhi techie wins free food from swiggy for on...   \n",
       "2  new zealand end rohit sharma led india match w...   \n",
       "3  aegon life iterm insurance plan helps customer...   \n",
       "4  have known hirani for yrs what if metoo claims...   \n",
       "\n",
       "                                       decoder_input  \\\n",
       "0  sostoken upgrad learner switches to career in ...   \n",
       "1  sostoken delhi techie wins free food from swig...   \n",
       "2  sostoken new zealand end rohit sharma led indi...   \n",
       "3  sostoken aegon life iterm insurance plan helps...   \n",
       "4  sostoken have known hirani for yrs what if met...   \n",
       "\n",
       "                                      decoder_target  \n",
       "0  upgrad learner switches to career in ml al wit...  \n",
       "1  delhi techie wins free food from swiggy for on...  \n",
       "2  new zealand end rohit sharma led india match w...  \n",
       "3  aegon life iterm insurance plan helps customer...  \n",
       "4  have known hirani for yrs what if metoo claims...  "
      ]
     },
     "execution_count": 30,
     "metadata": {},
     "output_type": "execute_result"
    }
   ],
   "source": [
    "# 요약 데이터에는 시작 토큰과 종료 토큰을 추가한다.\n",
    "data['decoder_input'] = data['Summary'].apply(lambda x : 'sostoken '+ x)\n",
    "data['decoder_target'] = data['Summary'].apply(lambda x : x + ' eostoken')\n",
    "data.head()"
   ]
  },
  {
   "cell_type": "code",
   "execution_count": 31,
   "id": "11e99a6e",
   "metadata": {},
   "outputs": [],
   "source": [
    "encoder_input = np.array(data['Text']) # 인코더의 입력\n",
    "decoder_input = np.array(data['decoder_input']) # 디코더의 입력\n",
    "decoder_target = np.array(data['decoder_target']) # 디코더의 레이블"
   ]
  },
  {
   "cell_type": "code",
   "execution_count": 32,
   "id": "93860ce9",
   "metadata": {},
   "outputs": [
    {
     "name": "stdout",
     "output_type": "stream",
     "text": [
      "[36344 39723 76289 ... 37558 14964 91481]\n"
     ]
    }
   ],
   "source": [
    "indices = np.arange(encoder_input.shape[0])\n",
    "np.random.shuffle(indices)\n",
    "print(indices)"
   ]
  },
  {
   "cell_type": "code",
   "execution_count": 33,
   "id": "5f1c7c97",
   "metadata": {},
   "outputs": [],
   "source": [
    "encoder_input = encoder_input[indices]\n",
    "decoder_input = decoder_input[indices]\n",
    "decoder_target = decoder_target[indices]"
   ]
  },
  {
   "cell_type": "code",
   "execution_count": 34,
   "id": "5e31030a",
   "metadata": {},
   "outputs": [
    {
     "name": "stdout",
     "output_type": "stream",
     "text": [
      "테스트 데이터의 수 : 19672\n"
     ]
    }
   ],
   "source": [
    "n_of_val = int(len(encoder_input)*0.2)\n",
    "print('테스트 데이터의 수 :', n_of_val)"
   ]
  },
  {
   "cell_type": "code",
   "execution_count": 35,
   "id": "4d54a0da",
   "metadata": {},
   "outputs": [
    {
     "name": "stdout",
     "output_type": "stream",
     "text": [
      "훈련 데이터의 개수 : 78688\n",
      "훈련 레이블의 개수 : 78688\n",
      "테스트 데이터의 개수 : 19672\n",
      "테스트 레이블의 개수 : 19672\n"
     ]
    }
   ],
   "source": [
    "encoder_input_train = encoder_input[:-n_of_val]\n",
    "decoder_input_train = decoder_input[:-n_of_val]\n",
    "decoder_target_train = decoder_target[:-n_of_val]\n",
    "\n",
    "encoder_input_test = encoder_input[-n_of_val:]\n",
    "decoder_input_test = decoder_input[-n_of_val:]\n",
    "decoder_target_test = decoder_target[-n_of_val:]\n",
    "\n",
    "print('훈련 데이터의 개수 :', len(encoder_input_train))\n",
    "print('훈련 레이블의 개수 :', len(decoder_input_train))\n",
    "print('테스트 데이터의 개수 :', len(encoder_input_test))\n",
    "print('테스트 레이블의 개수 :', len(decoder_input_test))"
   ]
  },
  {
   "cell_type": "markdown",
   "id": "d6f88eb3",
   "metadata": {},
   "source": [
    "## 데이터 전처리하기 (3) 정수 인코딩"
   ]
  },
  {
   "cell_type": "markdown",
   "id": "d59c8829",
   "metadata": {},
   "source": [
    "### 단어 집합(vocabulary) 만들기 및 정수 인코딩"
   ]
  },
  {
   "cell_type": "code",
   "execution_count": 36,
   "id": "3d74ff6b",
   "metadata": {},
   "outputs": [],
   "source": [
    "src_tokenizer = Tokenizer() # 토크나이저 정의\n",
    "src_tokenizer.fit_on_texts(encoder_input_train) # 입력된 데이터로부터 단어 집합 생성"
   ]
  },
  {
   "cell_type": "code",
   "execution_count": 37,
   "id": "994df953",
   "metadata": {},
   "outputs": [
    {
     "name": "stdout",
     "output_type": "stream",
     "text": [
      "[('said', 1), ('india', 2), ('year', 3), ('added', 4), ('us', 5)]\n"
     ]
    }
   ],
   "source": [
    "print(list(src_tokenizer.word_index.items())[:5])  # 단어-인덱스 맵핑 상위 5개 출력"
   ]
  },
  {
   "cell_type": "code",
   "execution_count": 38,
   "id": "f34180ab",
   "metadata": {},
   "outputs": [
    {
     "name": "stdout",
     "output_type": "stream",
     "text": [
      "단어 집합(vocabulary)의 크기 : 69577\n",
      "등장 빈도가 6번 이하인 희귀 단어의 수: 47383\n",
      "단어 집합에서 희귀 단어를 제외시킬 경우의 단어 집합의 크기 22194\n",
      "단어 집합에서 희귀 단어의 비율: 68.10152780372825\n",
      "전체 등장 빈도에서 희귀 단어 등장 빈도 비율: 3.4820799050355014\n"
     ]
    }
   ],
   "source": [
    "threshold = 7\n",
    "total_cnt = len(src_tokenizer.word_index) # 단어의 수\n",
    "rare_cnt = 0 # 등장 빈도수가 threshold보다 작은 단어의 개수를 카운트\n",
    "total_freq = 0 # 훈련 데이터의 전체 단어 빈도수 총 합\n",
    "rare_freq = 0 # 등장 빈도수가 threshold보다 작은 단어의 등장 빈도수의 총 합\n",
    "\n",
    "# 단어와 빈도수의 쌍(pair)을 key와 value로 받는다.\n",
    "for key, value in src_tokenizer.word_counts.items():\n",
    "    total_freq = total_freq + value\n",
    "\n",
    "    # 단어의 등장 빈도수가 threshold보다 작으면\n",
    "    if(value < threshold):\n",
    "        rare_cnt = rare_cnt + 1\n",
    "        rare_freq = rare_freq + value\n",
    "\n",
    "print('단어 집합(vocabulary)의 크기 :', total_cnt)\n",
    "print('등장 빈도가 %s번 이하인 희귀 단어의 수: %s'%(threshold - 1, rare_cnt))\n",
    "print('단어 집합에서 희귀 단어를 제외시킬 경우의 단어 집합의 크기 %s'%(total_cnt - rare_cnt))\n",
    "print(\"단어 집합에서 희귀 단어의 비율:\", (rare_cnt / total_cnt)*100)\n",
    "print(\"전체 등장 빈도에서 희귀 단어 등장 빈도 비율:\", (rare_freq / total_freq)*100)"
   ]
  },
  {
   "cell_type": "markdown",
   "id": "9ad79605",
   "metadata": {},
   "source": [
    "22194는 추천값으로 사용할 수 있음.\n",
    "학습 환경과 데이터에 따라 더 작게 (10000~15000) 또는 필요하면 더 크게 설정해 볼 수 있음.\n",
    "모델 성능을 기준으로 최적값을 조정하는 것이 최선.\n",
    "\n",
    "- 고은비: 21000\n",
    "- 민혁: 15000\n",
    "- 임만순: 21000\n",
    "\n",
    "다수결의 원칙 적용"
   ]
  },
  {
   "cell_type": "code",
   "execution_count": 39,
   "id": "f875149c",
   "metadata": {},
   "outputs": [],
   "source": [
    "src_vocab = 21000\n",
    "src_tokenizer = Tokenizer(num_words=src_vocab) # 단어 집합의 크기를 21,000으로 제한\n",
    "src_tokenizer.fit_on_texts(encoder_input_train) # 단어 집합 재생성"
   ]
  },
  {
   "cell_type": "code",
   "execution_count": 40,
   "id": "19e23202",
   "metadata": {},
   "outputs": [
    {
     "name": "stdout",
     "output_type": "stream",
     "text": [
      "[[38, 729, 3311, 8018, 1, 3, 13, 64, 443, 5713, 10, 1631, 3177, 14233, 994, 64, 113, 2056, 475, 556, 75, 798, 747, 1016, 9, 8136, 95, 227, 91, 52, 1878, 1617, 158, 251, 180], [561, 3368, 2379, 20737, 207, 2496, 1334, 4047, 111, 975, 300, 489, 2785, 740, 20737, 2565, 2399, 284, 121, 300, 458, 3, 13, 3368, 2065, 43, 933, 5276, 383], [1825, 5552, 6968, 258, 821, 336, 1364, 2570, 16693, 6468, 3555, 1364, 685, 18409, 5552, 702, 5223, 969, 4469, 17519, 15994, 3555, 504, 2570, 663, 1, 4654, 5908]]\n"
     ]
    }
   ],
   "source": [
    "# 텍스트 시퀀스를 정수 시퀀스로 변환\n",
    "encoder_input_train = src_tokenizer.texts_to_sequences(encoder_input_train) \n",
    "encoder_input_test = src_tokenizer.texts_to_sequences(encoder_input_test)\n",
    "\n",
    "# 잘 진행되었는지 샘플 출력\n",
    "print(encoder_input_train[:3])"
   ]
  },
  {
   "cell_type": "code",
   "execution_count": 41,
   "id": "56b9ad38",
   "metadata": {},
   "outputs": [],
   "source": [
    "tar_tokenizer = Tokenizer()\n",
    "tar_tokenizer.fit_on_texts(decoder_input_train)"
   ]
  },
  {
   "cell_type": "code",
   "execution_count": 42,
   "id": "69ba803f",
   "metadata": {
    "scrolled": true
   },
   "outputs": [
    {
     "name": "stdout",
     "output_type": "stream",
     "text": [
      "단어 집합(vocabulary)의 크기 : 30090\n",
      "등장 빈도가 5번 이하인 희귀 단어의 수: 19676\n",
      "단어 집합에서 희귀 단어를 제외시킬 경우의 단어 집합의 크기 10414\n",
      "단어 집합에서 희귀 단어의 비율: 65.3904951811233\n",
      "전체 등장 빈도에서 희귀 단어 등장 빈도 비율: 4.644807057589685\n"
     ]
    }
   ],
   "source": [
    "threshold = 6\n",
    "total_cnt = len(tar_tokenizer.word_index) # 단어의 수\n",
    "rare_cnt = 0 # 등장 빈도수가 threshold보다 작은 단어의 개수를 카운트\n",
    "total_freq = 0 # 훈련 데이터의 전체 단어 빈도수 총 합\n",
    "rare_freq = 0 # 등장 빈도수가 threshold보다 작은 단어의 등장 빈도수의 총 합\n",
    "\n",
    "# 단어와 빈도수의 쌍(pair)을 key와 value로 받는다.\n",
    "for key, value in tar_tokenizer.word_counts.items():\n",
    "    total_freq = total_freq + value\n",
    "\n",
    "    # 단어의 등장 빈도수가 threshold보다 작으면\n",
    "    if(value < threshold):\n",
    "        rare_cnt = rare_cnt + 1\n",
    "        rare_freq = rare_freq + value\n",
    "\n",
    "print('단어 집합(vocabulary)의 크기 :', total_cnt)\n",
    "print('등장 빈도가 %s번 이하인 희귀 단어의 수: %s'%(threshold - 1, rare_cnt))\n",
    "print('단어 집합에서 희귀 단어를 제외시킬 경우의 단어 집합의 크기 %s'%(total_cnt - rare_cnt))\n",
    "print(\"단어 집합에서 희귀 단어의 비율:\", (rare_cnt / total_cnt)*100)\n",
    "print(\"전체 등장 빈도에서 희귀 단어 등장 빈도 비율:\", (rare_freq / total_freq)*100)"
   ]
  },
  {
   "cell_type": "markdown",
   "id": "724282ce",
   "metadata": {},
   "source": [
    "10414는 추천값으로 사용할 수 있음.\n",
    "학습 환경과 데이터에 따라 더 작게 (5000~8000) 또는 필요하면 더 크게 설정해 볼 수 있음.\n",
    "모델 성능을 기준으로 최적값을 조정하는 것이 최선.\n",
    "\n",
    "- 고은비: 5000~10000 (기권)\n",
    "- 민혁: 5000~10000 (기권)\n",
    "- 임만순: 8000\n",
    "\n",
    "다수결의 원칙 적용"
   ]
  },
  {
   "cell_type": "code",
   "execution_count": 44,
   "id": "3cd863b2",
   "metadata": {},
   "outputs": [
    {
     "name": "stdout",
     "output_type": "stream",
     "text": [
      "input\n",
      "input  [[1, 142, 170, 43, 71, 17, 3421, 359, 60, 32, 266], [1, 1941, 492, 106, 258, 3, 2864, 4, 3581, 89], [1, 4836, 3, 2230, 2042, 15, 733, 6799, 2314, 3, 83], [1, 5008, 7214, 5881, 15, 910, 356], [1, 30, 5628, 22, 37, 1881, 5, 2043, 34, 420]]\n",
      "target\n",
      "decoder  [[142, 170, 43, 71, 17, 3421, 359, 60, 32, 266, 2], [1941, 492, 106, 258, 3, 2864, 4, 3581, 89, 2], [4836, 3, 2230, 2042, 15, 733, 6799, 2314, 3, 83, 2], [5008, 7214, 5881, 15, 910, 356, 2], [30, 5628, 22, 37, 1881, 5, 2043, 34, 420, 2]]\n"
     ]
    }
   ],
   "source": [
    "tar_vocab = 8000\n",
    "tar_tokenizer = Tokenizer(num_words=tar_vocab) \n",
    "tar_tokenizer.fit_on_texts(decoder_input_train)\n",
    "tar_tokenizer.fit_on_texts(decoder_target_train)\n",
    "\n",
    "# 텍스트 시퀀스를 정수 시퀀스로 변환\n",
    "decoder_input_train = tar_tokenizer.texts_to_sequences(decoder_input_train) \n",
    "decoder_target_train = tar_tokenizer.texts_to_sequences(decoder_target_train)\n",
    "decoder_input_test = tar_tokenizer.texts_to_sequences(decoder_input_test)\n",
    "decoder_target_test = tar_tokenizer.texts_to_sequences(decoder_target_test)\n",
    "\n",
    "# 잘 변환되었는지 확인\n",
    "print('input')\n",
    "print('input ',decoder_input_train[:5])\n",
    "print('target')\n",
    "print('decoder ',decoder_target_train[:5])"
   ]
  },
  {
   "cell_type": "code",
   "execution_count": 45,
   "id": "f97ef843",
   "metadata": {},
   "outputs": [
    {
     "name": "stdout",
     "output_type": "stream",
     "text": [
      "삭제할 훈련 데이터의 개수 : 1\n",
      "삭제할 테스트 데이터의 개수 : 0\n",
      "훈련 데이터의 개수 : 78687\n",
      "훈련 레이블의 개수 : 78687\n",
      "테스트 데이터의 개수 : 19672\n",
      "테스트 레이블의 개수 : 19672\n"
     ]
    }
   ],
   "source": [
    "drop_train = [index for index, sentence in enumerate(decoder_input_train) if len(sentence) == 1]\n",
    "drop_test = [index for index, sentence in enumerate(decoder_input_test) if len(sentence) == 1]\n",
    "\n",
    "print('삭제할 훈련 데이터의 개수 :', len(drop_train))\n",
    "print('삭제할 테스트 데이터의 개수 :', len(drop_test))\n",
    "\n",
    "encoder_input_train = [sentence for index, sentence in enumerate(encoder_input_train) if index not in drop_train]\n",
    "decoder_input_train = [sentence for index, sentence in enumerate(decoder_input_train) if index not in drop_train]\n",
    "decoder_target_train = [sentence for index, sentence in enumerate(decoder_target_train) if index not in drop_train]\n",
    "\n",
    "encoder_input_test = [sentence for index, sentence in enumerate(encoder_input_test) if index not in drop_test]\n",
    "decoder_input_test = [sentence for index, sentence in enumerate(decoder_input_test) if index not in drop_test]\n",
    "decoder_target_test = [sentence for index, sentence in enumerate(decoder_target_test) if index not in drop_test]\n",
    "\n",
    "print('훈련 데이터의 개수 :', len(encoder_input_train))\n",
    "print('훈련 레이블의 개수 :', len(decoder_input_train))\n",
    "print('테스트 데이터의 개수 :', len(encoder_input_test))\n",
    "print('테스트 레이블의 개수 :', len(decoder_input_test))"
   ]
  },
  {
   "cell_type": "markdown",
   "id": "0fad2413",
   "metadata": {},
   "source": [
    "### 패딩하기"
   ]
  },
  {
   "cell_type": "code",
   "execution_count": 46,
   "id": "c0379715",
   "metadata": {},
   "outputs": [],
   "source": [
    "encoder_input_train = pad_sequences(encoder_input_train, maxlen=text_max_len, padding='post')\n",
    "encoder_input_test = pad_sequences(encoder_input_test, maxlen=text_max_len, padding='post')\n",
    "decoder_input_train = pad_sequences(decoder_input_train, maxlen=summary_max_len, padding='post')\n",
    "decoder_target_train = pad_sequences(decoder_target_train, maxlen=summary_max_len, padding='post')\n",
    "decoder_input_test = pad_sequences(decoder_input_test, maxlen=summary_max_len, padding='post')\n",
    "decoder_target_test = pad_sequences(decoder_target_test, maxlen=summary_max_len, padding='post')"
   ]
  },
  {
   "cell_type": "code",
   "execution_count": 47,
   "id": "4ea505ec",
   "metadata": {},
   "outputs": [
    {
     "name": "stdout",
     "output_type": "stream",
     "text": [
      "encoder_input_train:  [[   38   729  3311 ...     0     0     0]\n",
      " [  561  3368  2379 ...     0     0     0]\n",
      " [ 1825  5552  6968 ...     0     0     0]\n",
      " ...\n",
      " [  882  1622  5577 ...     0     0     0]\n",
      " [ 4273   303  8718 ...   794     0     0]\n",
      " [10687   944    59 ...     0     0     0]] \n",
      " 78687 개 ( 40 )\n",
      "encoder_input_test:  [[ 365  196    1 ...    0    0    0]\n",
      " [ 174   10  114 ...    0    0    0]\n",
      " [  38 3734 1605 ...    0    0    0]\n",
      " ...\n",
      " [5327  676 5584 ...    0    0    0]\n",
      " [6022 3924  120 ...    0    0    0]\n",
      " [6542  923 1044 ...    0    0    0]] \n",
      " 19672 개 ( 40 )\n",
      "decoder_input_train:  [[ 142  170   43 ...   60   32  266]\n",
      " [   1 1941  492 ...    4 3581   89]\n",
      " [4836    3 2230 ... 2314    3   83]\n",
      " ...\n",
      " [   1 2059 1428 ... 3096  408    0]\n",
      " [2598  178 5410 ...  116 1920 1403]\n",
      " [   1 7145  973 ... 7400  315   17]] \n",
      " 78687 개 ( 10 )\n",
      "decoder_target_train:  [[ 170   43   71 ...   32  266    2]\n",
      " [1941  492  106 ... 3581   89    2]\n",
      " [   3 2230 2042 ...    3   83    2]\n",
      " ...\n",
      " [2059 1428   19 ...  408    2    0]\n",
      " [ 178 5410 1102 ... 1920 1403    2]\n",
      " [7145  973    3 ...  315   17    2]] \n",
      " 78687 개 ( 10 )\n",
      "decoder_input_test:  [[   1  138  718 ... 1675  513  515]\n",
      " [   1 3735  298 ...  788    0    0]\n",
      " [  32 1120  170 ...  880    4  944]\n",
      " ...\n",
      " [ 148   21  883 ...   37    3  528]\n",
      " [  40   26 5778 ...  416   43 2228]\n",
      " [  20 6375   52 ... 5220  105 1324]] \n",
      " 19672 개 ( 10 )\n",
      "decoder_target_test:  [[ 138  718  475 ...  513  515    2]\n",
      " [3735  298    4 ...    2    0    0]\n",
      " [1120  170 2600 ...    4  944    2]\n",
      " ...\n",
      " [  21  883 1656 ...    3  528    2]\n",
      " [  26 5778 2536 ...   43 2228    2]\n",
      " [6375   52    6 ...  105 1324    2]] \n",
      " 19672 개 ( 10 )\n"
     ]
    }
   ],
   "source": [
    "print(\"encoder_input_train: \", encoder_input_train, \"\\n\", len(encoder_input_train), \"개 (\", len(encoder_input_train[0]), \")\")\n",
    "print(\"encoder_input_test: \", encoder_input_test, \"\\n\", len(encoder_input_test), \"개 (\", len(encoder_input_test[0]), \")\")\n",
    "print(\"decoder_input_train: \", decoder_input_train, \"\\n\", len(decoder_input_train), \"개 (\", len(decoder_input_train[0]), \")\")\n",
    "print(\"decoder_target_train: \", decoder_target_train, \"\\n\", len(decoder_target_train), \"개 (\", len(decoder_target_train[0]), \")\")\n",
    "print(\"decoder_input_test: \", decoder_input_test, \"\\n\", len(decoder_input_test), \"개 (\", len(decoder_input_test[0]), \")\")\n",
    "print(\"decoder_target_test: \", decoder_target_test, \"\\n\", len(decoder_target_test), \"개 (\", len(decoder_target_test[0]), \")\")"
   ]
  },
  {
   "cell_type": "markdown",
   "id": "cb1234d1",
   "metadata": {},
   "source": [
    "# Step 3. 어텐션 메커니즘 사용하기 (추상적 요약)"
   ]
  },
  {
   "cell_type": "markdown",
   "id": "a9226a64",
   "metadata": {},
   "source": [
    "일반적인 seq2seq보다는 어텐션 메커니즘을 사용한 seq2seq를 사용하는 것이 더 나은 성능을 얻을 수 있어요. 실습 내용을 참고하여 어텐션 메커니즘을 사용한 seq2seq를 설계해 보세요."
   ]
  },
  {
   "cell_type": "markdown",
   "id": "09c5c52f",
   "metadata": {},
   "source": [
    "## Seq2Seq (기본) 모델 설계하기"
   ]
  },
  {
   "cell_type": "code",
   "execution_count": 52,
   "id": "6fb26fa6",
   "metadata": {},
   "outputs": [],
   "source": [
    "from tensorflow.keras.layers import Input, LSTM, Embedding, Dense, Concatenate, TimeDistributed\n",
    "from tensorflow.keras.models import Model\n",
    "from tensorflow.keras.callbacks import EarlyStopping, ModelCheckpoint\n",
    "\n",
    "\n",
    "# 인코더 설계 시작\n",
    "embedding_dim = 128\n",
    "hidden_size = 256\n",
    "\n",
    "# 인코더\n",
    "encoder_inputs = Input(shape=(text_max_len,))\n",
    "\n",
    "# 인코더의 임베딩 층\n",
    "enc_emb = Embedding(src_vocab, embedding_dim)(encoder_inputs)\n",
    "\n",
    "# 인코더의 LSTM 1\n",
    "encoder_lstm1 = LSTM(hidden_size, return_sequences=True, return_state=True ,dropout = 0.4)\n",
    "encoder_output1, state_h1, state_c1 = encoder_lstm1(enc_emb)\n",
    "\n",
    "# 인코더의 LSTM 2\n",
    "encoder_lstm2 = LSTM(hidden_size, return_sequences=True, return_state=True, dropout=0.4)\n",
    "encoder_output2, state_h2, state_c2 = encoder_lstm2(encoder_output1)\n",
    "\n",
    "# 인코더의 LSTM 3\n",
    "encoder_lstm3 = LSTM(hidden_size, return_sequences=True, return_state=True, dropout=0.4)\n",
    "encoder_output3, state_h3, state_c3 = encoder_lstm3(encoder_output2)\n",
    "\n",
    "encoder_outputs, state_h, state_c = encoder_output3, state_h3, state_c3\n"
   ]
  },
  {
   "cell_type": "code",
   "execution_count": 53,
   "id": "9d3d8c3e",
   "metadata": {},
   "outputs": [],
   "source": [
    "# 디코더 설계\n",
    "decoder_inputs = Input(shape=(None,))\n",
    "\n",
    "# 디코더의 임베딩 층\n",
    "dec_emb_layer = Embedding(tar_vocab, embedding_dim)\n",
    "dec_emb = dec_emb_layer(decoder_inputs)\n",
    "\n",
    "# 디코더의 LSTM\n",
    "# decoder_lstm = LSTM(hidden_size, return_sequences=True, return_state=True, dropout=0.4, recurrent_dropout=0.2)\n",
    "decoder_lstm = LSTM(hidden_size, return_sequences=True, return_state=True, dropout=0.4)\n",
    "decoder_outputs, _, _ = decoder_lstm(dec_emb, initial_state=[state_h, state_c])\n",
    "\n",
    "# 디코더 설계\n",
    "decoder_inputs = Input(shape=(None,))\n",
    "\n",
    "# 디코더의 임베딩 층\n",
    "dec_emb_layer = Embedding(tar_vocab, embedding_dim)\n",
    "dec_emb = dec_emb_layer(decoder_inputs)\n",
    "\n",
    "# 디코더의 LSTM\n",
    "# decoder_lstm = LSTM(hidden_size, return_sequences=True, return_state=True, dropout=0.4, recurrent_dropout=0.2)\n",
    "decoder_lstm = LSTM(hidden_size, return_sequences=True, return_state=True, dropout=0.4)\n",
    "decoder_outputs, _, _ = decoder_lstm(dec_emb, initial_state=[state_h, state_c])"
   ]
  },
  {
   "cell_type": "code",
   "execution_count": 54,
   "id": "c408dcc9",
   "metadata": {},
   "outputs": [
    {
     "name": "stdout",
     "output_type": "stream",
     "text": [
      "Model: \"model\"\n",
      "__________________________________________________________________________________________________\n",
      "Layer (type)                    Output Shape         Param #     Connected to                     \n",
      "==================================================================================================\n",
      "input_2 (InputLayer)            [(None, 40)]         0                                            \n",
      "__________________________________________________________________________________________________\n",
      "embedding_1 (Embedding)         (None, 40, 128)      2688000     input_2[0][0]                    \n",
      "__________________________________________________________________________________________________\n",
      "lstm_3 (LSTM)                   [(None, 40, 256), (N 394240      embedding_1[0][0]                \n",
      "__________________________________________________________________________________________________\n",
      "input_4 (InputLayer)            [(None, None)]       0                                            \n",
      "__________________________________________________________________________________________________\n",
      "lstm_4 (LSTM)                   [(None, 40, 256), (N 525312      lstm_3[0][0]                     \n",
      "__________________________________________________________________________________________________\n",
      "embedding_3 (Embedding)         (None, None, 128)    1024000     input_4[0][0]                    \n",
      "__________________________________________________________________________________________________\n",
      "lstm_5 (LSTM)                   [(None, 40, 256), (N 525312      lstm_4[0][0]                     \n",
      "__________________________________________________________________________________________________\n",
      "lstm_7 (LSTM)                   [(None, None, 256),  394240      embedding_3[0][0]                \n",
      "                                                                 lstm_5[0][1]                     \n",
      "                                                                 lstm_5[0][2]                     \n",
      "__________________________________________________________________________________________________\n",
      "dense_3 (Dense)                 (None, None, 8000)   2056000     lstm_7[0][0]                     \n",
      "==================================================================================================\n",
      "Total params: 7,607,104\n",
      "Trainable params: 7,607,104\n",
      "Non-trainable params: 0\n",
      "__________________________________________________________________________________________________\n"
     ]
    }
   ],
   "source": [
    "# 디코더의 출력층\n",
    "decoder_softmax_layer = Dense(tar_vocab, activation='softmax')\n",
    "decoder_softmax_outputs = decoder_softmax_layer(decoder_outputs) \n",
    "\n",
    "# 모델 정의\n",
    "model = Model([encoder_inputs, decoder_inputs], decoder_softmax_outputs)\n",
    "model.summary()"
   ]
  },
  {
   "cell_type": "markdown",
   "id": "0fb68c0b",
   "metadata": {},
   "source": [
    "## 어텐션 메커니즘"
   ]
  },
  {
   "cell_type": "code",
   "execution_count": 55,
   "id": "78802f4c",
   "metadata": {},
   "outputs": [
    {
     "name": "stdout",
     "output_type": "stream",
     "text": [
      "Model: \"model_1\"\n",
      "__________________________________________________________________________________________________\n",
      "Layer (type)                    Output Shape         Param #     Connected to                     \n",
      "==================================================================================================\n",
      "input_2 (InputLayer)            [(None, 40)]         0                                            \n",
      "__________________________________________________________________________________________________\n",
      "embedding_1 (Embedding)         (None, 40, 128)      2688000     input_2[0][0]                    \n",
      "__________________________________________________________________________________________________\n",
      "lstm_3 (LSTM)                   [(None, 40, 256), (N 394240      embedding_1[0][0]                \n",
      "__________________________________________________________________________________________________\n",
      "input_4 (InputLayer)            [(None, None)]       0                                            \n",
      "__________________________________________________________________________________________________\n",
      "lstm_4 (LSTM)                   [(None, 40, 256), (N 525312      lstm_3[0][0]                     \n",
      "__________________________________________________________________________________________________\n",
      "embedding_3 (Embedding)         (None, None, 128)    1024000     input_4[0][0]                    \n",
      "__________________________________________________________________________________________________\n",
      "lstm_5 (LSTM)                   [(None, 40, 256), (N 525312      lstm_4[0][0]                     \n",
      "__________________________________________________________________________________________________\n",
      "lstm_7 (LSTM)                   [(None, None, 256),  394240      embedding_3[0][0]                \n",
      "                                                                 lstm_5[0][1]                     \n",
      "                                                                 lstm_5[0][2]                     \n",
      "__________________________________________________________________________________________________\n",
      "attention_layer (AdditiveAttent (None, None, 256)    256         lstm_7[0][0]                     \n",
      "                                                                 lstm_5[0][0]                     \n",
      "__________________________________________________________________________________________________\n",
      "concat_layer (Concatenate)      (None, None, 512)    0           lstm_7[0][0]                     \n",
      "                                                                 attention_layer[0][0]            \n",
      "__________________________________________________________________________________________________\n",
      "dense_4 (Dense)                 (None, None, 8000)   4104000     concat_layer[0][0]               \n",
      "==================================================================================================\n",
      "Total params: 9,655,360\n",
      "Trainable params: 9,655,360\n",
      "Non-trainable params: 0\n",
      "__________________________________________________________________________________________________\n"
     ]
    }
   ],
   "source": [
    "from tensorflow.keras.layers import AdditiveAttention\n",
    "\n",
    "# 어텐션 층(어텐션 함수)\n",
    "attn_layer = AdditiveAttention(name='attention_layer')\n",
    "\n",
    "# 인코더와 디코더의 모든 time step의 hidden state를 어텐션 층에 전달하고 결과를 리턴\n",
    "attn_out = attn_layer([decoder_outputs, encoder_outputs])\n",
    "\n",
    "\n",
    "# 어텐션의 결과와 디코더의 hidden state들을 연결\n",
    "decoder_concat_input = Concatenate(axis=-1, name='concat_layer')([decoder_outputs, attn_out])\n",
    "\n",
    "# 디코더의 출력층\n",
    "decoder_softmax_layer = Dense(tar_vocab, activation='softmax')\n",
    "decoder_softmax_outputs = decoder_softmax_layer(decoder_concat_input)\n",
    "\n",
    "# 모델 정의\n",
    "model = Model([encoder_inputs, decoder_inputs], decoder_softmax_outputs)\n",
    "model.summary()"
   ]
  },
  {
   "cell_type": "markdown",
   "id": "a217c719",
   "metadata": {},
   "source": [
    "## 모델 훈련"
   ]
  },
  {
   "cell_type": "code",
   "execution_count": 93,
   "id": "8ab30dc5",
   "metadata": {},
   "outputs": [
    {
     "name": "stdout",
     "output_type": "stream",
     "text": [
      "Epoch 1/50\n",
      "308/308 [==============================] - 29s 80ms/step - loss: 2.8666 - val_loss: 4.0226\n",
      "Epoch 2/50\n",
      "308/308 [==============================] - 24s 77ms/step - loss: 2.8054 - val_loss: 4.0221\n",
      "Epoch 3/50\n",
      "308/308 [==============================] - 24s 79ms/step - loss: 2.7645 - val_loss: 4.0252\n",
      "Epoch 4/50\n",
      "308/308 [==============================] - 24s 79ms/step - loss: 2.7309 - val_loss: 4.0303\n",
      "Epoch 00004: early stopping\n"
     ]
    }
   ],
   "source": [
    "# 1: 26회\n",
    "# 2: 5회\n",
    "# 3: 4회\n",
    "model.compile(optimizer='rmsprop', loss='sparse_categorical_crossentropy')\n",
    "es = EarlyStopping(monitor='val_loss', patience=2, verbose=1)\n",
    "history = model.fit(x=[encoder_input_train, decoder_input_train], y=decoder_target_train, \\\n",
    "          validation_data=([encoder_input_test, decoder_input_test], decoder_target_test), \\\n",
    "          batch_size=256, callbacks=[es], epochs=50)"
   ]
  },
  {
   "cell_type": "code",
   "execution_count": 83,
   "id": "5ace10db",
   "metadata": {},
   "outputs": [
    {
     "data": {
      "image/png": "[encoded data removed]",
      "text/plain": [
       "<Figure size 432x288 with 1 Axes>"
      ]
     },
     "metadata": {
      "needs_background": "light"
     },
     "output_type": "display_data"
    }
   ],
   "source": [
    "plt.plot(history.history['loss'], label='train')\n",
    "plt.plot(history.history['val_loss'], label='test')\n",
    "plt.legend()\n",
    "plt.show()"
   ]
  },
  {
   "cell_type": "markdown",
   "id": "32b0829c",
   "metadata": {},
   "source": [
    "## 인퍼런스 모델 구현하기"
   ]
  },
  {
   "cell_type": "code",
   "execution_count": 84,
   "id": "d5b6b0da",
   "metadata": {},
   "outputs": [],
   "source": [
    "#@TODO: 이거 구현을 해야 모델 성능 테스트가 가능한 건가?\n",
    "# 그렇다고 함. 왜인지는 모름."
   ]
  },
  {
   "cell_type": "code",
   "execution_count": 105,
   "id": "ab2beb79",
   "metadata": {},
   "outputs": [],
   "source": [
    "src_index_to_word = src_tokenizer.index_word # 원문 단어 집합에서 정수 -> 단어를 얻음\n",
    "tar_word_to_index = tar_tokenizer.word_index # 요약 단어 집합에서 단어 -> 정수를 얻음\n",
    "tar_index_to_word = tar_tokenizer.index_word # 요약 단어 집합에서 정수 -> 단어를 얻음"
   ]
  },
  {
   "cell_type": "code",
   "execution_count": 126,
   "id": "709580f8",
   "metadata": {},
   "outputs": [
    {
     "name": "stderr",
     "output_type": "stream",
     "text": [
      "WARNING:absl:Found untraced functions such as lstm_cell_24_layer_call_fn, lstm_cell_24_layer_call_and_return_conditional_losses, lstm_cell_25_layer_call_fn, lstm_cell_25_layer_call_and_return_conditional_losses, lstm_cell_26_layer_call_fn while saving (showing 5 of 20). These functions will not be directly callable after loading.\n"
     ]
    },
    {
     "name": "stdout",
     "output_type": "stream",
     "text": [
      "INFO:tensorflow:Assets written to: encoder_model.tf/assets\n"
     ]
    },
    {
     "name": "stderr",
     "output_type": "stream",
     "text": [
      "INFO:tensorflow:Assets written to: encoder_model.tf/assets\n"
     ]
    }
   ],
   "source": [
    "# 인코더 설계\n",
    "encoder_model = Model(inputs=encoder_inputs, outputs=[encoder_outputs, state_h, state_c])\n",
    "model.save(\"encoder_model.tf\") # 구버전 이슈\n",
    "# model.save(\"encoder_model.h5\")\n",
    "\n",
    "# 이전 시점의 상태들을 저장하는 텐서\n",
    "decoder_state_input_h = Input(shape=(hidden_size,))\n",
    "decoder_state_input_c = Input(shape=(hidden_size,))\n",
    "\n",
    "dec_emb2 = dec_emb_layer(decoder_inputs)\n",
    "\n",
    "# 문장의 다음 단어를 예측하기 위해서 초기 상태(initial_state)를 이전 시점의 상태로 사용. 이는 뒤의 함수 decode_sequence()에 구현\n",
    "# 훈련 과정에서와 달리 LSTM의 리턴하는 은닉 상태와 셀 상태인 state_h와 state_c를 버리지 않음.\n",
    "decoder_outputs2, state_h2, state_c2 = decoder_lstm(dec_emb2, initial_state=[decoder_state_input_h, decoder_state_input_c])\n"
   ]
  },
  {
   "cell_type": "code",
   "execution_count": 127,
   "id": "05f56860",
   "metadata": {},
   "outputs": [
    {
     "name": "stderr",
     "output_type": "stream",
     "text": [
      "WARNING:absl:Found untraced functions such as lstm_cell_24_layer_call_fn, lstm_cell_24_layer_call_and_return_conditional_losses, lstm_cell_25_layer_call_fn, lstm_cell_25_layer_call_and_return_conditional_losses, lstm_cell_26_layer_call_fn while saving (showing 5 of 20). These functions will not be directly callable after loading.\n"
     ]
    },
    {
     "name": "stdout",
     "output_type": "stream",
     "text": [
      "INFO:tensorflow:Assets written to: decoder_model.tf/assets\n"
     ]
    },
    {
     "name": "stderr",
     "output_type": "stream",
     "text": [
      "INFO:tensorflow:Assets written to: decoder_model.tf/assets\n"
     ]
    }
   ],
   "source": [
    "# 어텐션 함수\n",
    "decoder_hidden_state_input = Input(shape=(text_max_len, hidden_size))\n",
    "attn_out_inf = attn_layer([decoder_outputs2, decoder_hidden_state_input])\n",
    "decoder_inf_concat = Concatenate(axis=-1, name='concat')([decoder_outputs2, attn_out_inf])\n",
    "\n",
    "# 디코더의 출력층\n",
    "decoder_outputs2 = decoder_softmax_layer(decoder_inf_concat) \n",
    "\n",
    "# 최종 디코더 모델\n",
    "decoder_model = Model(\n",
    "    [decoder_inputs] + [decoder_hidden_state_input,decoder_state_input_h, decoder_state_input_c],\n",
    "    [decoder_outputs2] + [state_h2, state_c2])\n",
    "model.save(\"decoder_model.tf\") # 구버전 이슈"
   ]
  },
  {
   "cell_type": "code",
   "execution_count": 119,
   "id": "fa69fa52",
   "metadata": {},
   "outputs": [],
   "source": [
    "def decode_sequence(input_seq):\n",
    "    # 입력으로부터 인코더의 상태를 얻음\n",
    "    e_out, e_h, e_c = encoder_model.predict(input_seq)\n",
    "\n",
    "     # <SOS>에 해당하는 토큰 생성\n",
    "    target_seq = np.zeros((1,1))\n",
    "    target_seq[0, 0] = tar_word_to_index['sostoken']\n",
    "\n",
    "    stop_condition = False\n",
    "    decoded_sentence = ''\n",
    "    while not stop_condition: # stop_condition이 True가 될 때까지 루프 반복\n",
    "\n",
    "        output_tokens, h, c = decoder_model.predict([target_seq] + [e_out, e_h, e_c])\n",
    "        sampled_token_index = np.argmax(output_tokens[0, -1, :])\n",
    "        sampled_token = tar_index_to_word[sampled_token_index]\n",
    "\n",
    "        if (sampled_token!='eostoken'):\n",
    "            decoded_sentence += ' '+sampled_token\n",
    "\n",
    "        #  <eos>에 도달하거나 최대 길이를 넘으면 중단.\n",
    "        if (sampled_token == 'eostoken'  or len(decoded_sentence.split()) >= (summary_max_len-1)):\n",
    "            stop_condition = True\n",
    "\n",
    "        # 길이가 1인 타겟 시퀀스를 업데이트\n",
    "        target_seq = np.zeros((1,1))\n",
    "        target_seq[0, 0] = sampled_token_index\n",
    "\n",
    "        # 상태를 업데이트 합니다.\n",
    "        e_h, e_c = h, c\n",
    "\n",
    "    return decoded_sentence"
   ]
  },
  {
   "cell_type": "markdown",
   "id": "5a8ea4d5",
   "metadata": {},
   "source": [
    "# Step 4. 실제 결과와 요약문 비교하기 (추상적 요약)"
   ]
  },
  {
   "cell_type": "markdown",
   "id": "a528e450",
   "metadata": {},
   "source": [
    "원래의 요약문(headlines 열 == Summary 열)과 학습을 통해 얻은 추상적 요약의 결과를 비교해 보세요."
   ]
  },
  {
   "cell_type": "code",
   "execution_count": 120,
   "id": "ddacf5fb",
   "metadata": {},
   "outputs": [],
   "source": [
    "# 원문의 정수 시퀀스를 텍스트 시퀀스로 변환\n",
    "def seq2text(input_seq):\n",
    "    temp=''\n",
    "    for i in input_seq:\n",
    "        if (i!=0):\n",
    "            temp = temp + src_index_to_word[i]+' '\n",
    "    return temp.strip()\n",
    "\n",
    "# 요약문의 정수 시퀀스를 텍스트 시퀀스로 변환\n",
    "def seq2summary(input_seq):\n",
    "    temp = ''\n",
    "    for i in input_seq:\n",
    "        if i != 0 and i != tar_word_to_index['sostoken'] and i != tar_word_to_index['eostoken']:\n",
    "            temp += tar_index_to_word[i] + ' '  # 요약 단어 집합에서 정수 -> 단어 변환\n",
    "    return temp.strip()"
   ]
  },
  {
   "cell_type": "code",
   "execution_count": 121,
   "id": "ba03dbd2",
   "metadata": {},
   "outputs": [
    {
     "name": "stdout",
     "output_type": "stream",
     "text": [
      "원문 : ms dhoni became third indian cricketer sachin tendulkar rahul dravid appear international matches taking field england second friday dhoni debuted odi bangladesh also number appearances cricket indian cricketer\n",
      "실제 요약 : dhoni becomes rd indian cricketer to play int matches\n",
      "[[ 929  488  295  188   11  305  510  867  175 2265 1801  121  597  258\n",
      "  1049  243   93   58  488 7462  297  834    6  141 6579  109   11  305\n",
      "     0    0    0    0    0    0    0    0    0    0    0    0]]\n",
      "예측 요약 :  dhoni in nets sachin tendulkar\n",
      "\n",
      "\n",
      "원문 : group tourists france allegedly beaten molested group local boys uttar pradesh sunday locals insulted attacked sticks one tourist said injured tourists taken hospital treatment police arrested eight people case far\n",
      "실제 요약 : french tourists molested beaten up by locals in up\n",
      "[[  97 2226  926   52 1878 4886   97  512 1584  157   55   88 2040 7657\n",
      "   981 6946   17 2900    1  302 2226  197  180  752    9   91  368   10\n",
      "    78  640    0    0    0    0    0    0    0    0    0    0]]\n",
      "예측 요약 :  priest beaten up by men over suspicion of\n",
      "\n",
      "\n",
      "원문 : ms dhoni broken world record outs odi history remaining sri lanka thursday register rd unbeaten odi innings dhoni surpassed former cricketers shaun pollock remained unbeaten times odis dhoni missed scoring th international fifty one run\n",
      "실제 요약 : ms dhoni breaks record for most not in odi history\n",
      "[[  929   488  2191    19   198 16095   297   495  2192   421   727    69\n",
      "   1491  2566  2690   297   625   488  3442    26  1405 10533 15422  2630\n",
      "   2690   213  1785   488  2216  1555   116   121  3769    17   206     0\n",
      "      0     0     0     0]]\n",
      "예측 요약 :  ms dhoni has hit odi cricket in\n",
      "\n",
      "\n",
      "원문 : minister state finance santosh gangwar said shifting financial year april march cycle january december happen next year said order government needs present union budget november seem possible notably april march financial year adopted british government\n",
      "실제 요약 : plan to shift to jan dec financial year from govt\n",
      "[[   14    21   441  8650 12901     1  8284   467     3   391   361  6026\n",
      "    407   344  2093   164     3     1   247     8  1026  1216   181  1041\n",
      "    471  5805  1114   105   391   361   467     3  2517   561     8     0\n",
      "      0     0     0     0]]\n",
      "예측 요약 :  govt to set up november in years\n",
      "\n",
      "\n",
      "원문 : delhi patiala house court tuesday pronounced death sentence singh announced life imprisonment another convict naresh sherawat anti sikh riots case two convicted last week killing two sikhs delhi assassination prime minister indira gandhi\n",
      "실제 요약 : convict gets death sentence in anti sikh riots case\n",
      "[[   27  7254   138    20    59  8728   176  1781    48    94   137  2230\n",
      "    144  3537  7742 16798   405  1915  2743    78    12  1434    29   179\n",
      "    895    12  6864    27  4833   154    14  2364   131     0     0     0\n",
      "      0     0     0     0]]\n",
      "예측 요약 :  delhi court convicts death penalty for killing\n",
      "\n",
      "\n",
      "원문 : swara bhasker responded criticism fake statement attributed parody account apparent dig vagina letter padmaavat judging retweets thought clarify never said tweeted swara honestly guys get enough hate without help added referring parody account\n",
      "실제 요약 : swara responds to criticism over fake news by parody account\n",
      "[[ 3918  5845  1657  1613   483   406  3896 12655   531  4167  1968 14689\n",
      "    570  2602 11908 14278  1067  6834   293     1    70  3918  9665  4253\n",
      "    119  1123  2501   195   147     4  1347 12655   531     0     0     0\n",
      "      0     0     0     0]]\n",
      "예측 요약 :  swara slams media for fake news on fake news\n",
      "\n",
      "\n",
      "원문 : actress aishwarya rai bachchan said woman applies makeup mean brains time choose use make mean person serious added aishwarya said women need stop judging\n",
      "실제 요약 : makeup does not mean you do not have brains aishwarya\n",
      "[[   81  2033  1329   628     1    64 12674  8681  2841  7716    28  2456\n",
      "    230   118  2841   290  1712     4  2033     1    51   399   502 11908\n",
      "      0     0     0     0     0     0     0     0     0     0     0     0\n",
      "      0     0     0     0]]\n",
      "예측 요약 :  aishwarya is very aishwarya rai on aishwarya\n",
      "\n",
      "\n",
      "원문 : complaining early start india windies odis windies fans blamed icc scheduling start local time suit indian fans convenience want indians sleep us sleep less work supposed home series us fan complained\n",
      "실제 요약 : indians to sleep more us to sleep less wi fans\n",
      "[[ 5839   998   631     2  1345  1785  1345   807  1594  1193 12726   631\n",
      "    512    28  3165    11   807 11207   278   688  2852     5  2852   743\n",
      "    142  2952   135   139     5  1013  1410     0     0     0     0     0\n",
      "      0     0     0     0]]\n",
      "예측 요약 :  india to fans to india team india coach\n",
      "\n",
      "\n",
      "원문 : pakistani rounder shoaib malik became first ever cricketer play matches cricket achieving feat australia monday took cricket years get first ever match player ex australia captain allan border become first cricketer play odis england colin first reach tests\n",
      "실제 요약 : cricket gets first ever match player after years\n",
      "[[  450  1285  4667  1847   295     7   216   305   282   597   109  3243\n",
      "   1726   167    62    73   109    23   119     7   216    90   327   402\n",
      "    167    98 13441   591   182     7   305   282  1785   243  7838     7\n",
      "    737   997     0     0]]\n",
      "예측 요약 :  st indian to play int cricket in cricket history\n",
      "\n",
      "\n",
      "원문 : bishop franco mulakkal accused kerala nun multiple rapes temporarily stepped bishop jalandhar diocese request pray alleged victim divine intervention may bring change heart truth may revealed statement read kerala police earlier asked bishop appear september\n",
      "실제 요약 : me and the nun kerala rape accused bishop steps down\n",
      "[[ 5200  9348  9349    45   313  5742  1156  9162  3325  3218  5200  7817\n",
      "  16770  1435  5785   106   508 13371  4626   117   978   528  1024  2784\n",
      "    117    79   406   331   313     9    34    67  5200  1801   414     0\n",
      "      0     0     0     0]]\n",
      "예측 요약 :  bishop accused of rape by bishop\n",
      "\n",
      "\n",
      "원문 : leader kim jong un arrived china two day visit tuesday chinese state media reported kim visit china comes week met us president donald trump historic summit singapore kim third visit china since march made first trip abroad since assuming power\n",
      "실제 요약 : north korea kim jong un visits china after meeting trump\n",
      "[[  89 1010 1381  394 1933  102   12   43  384   59  281   21  108  248\n",
      "  1010  384  102   61  179  596    5   16  123   42 4304 1268 1259 1010\n",
      "   188  384  102  101  361   54    7 1764 2875  101 7503  329]]\n",
      "예측 요약 :  china china visit china visit to visit china\n",
      "\n",
      "\n",
      "원문 : west bengal government decided give tickets regional cinema including bengali nepali upcoming goods services tax state cabinet decided give cinema tickets less keep tax rate par existing entertainment tax\n",
      "실제 요약 : west bengal govt to give on regional cinema tickets\n",
      "[[  418   652     8   500   354  2106  2357  2037    77  5569 13349   177\n",
      "   1450   316   280    21  1168   500   354  2037  2106   743   711   280\n",
      "    963  4808  1117  2502   280     0     0     0     0     0     0     0\n",
      "      0     0     0     0]]\n",
      "예측 요약 :  andhra to budget for kumbh mela\n",
      "\n",
      "\n",
      "원문 : attorney general kk venugopal asked additional general ensure frivolous appeals filed ministries challenging lower courts orders cases pertaining service matters individuals reach supreme court aimed reducing number cases involving government centre presently party pending cases\n",
      "실제 요약 : ensure cases do not reach sc to law officers\n",
      "[[ 3857   257  6662  6663    67  1454   257   808 12957  7910   193  8126\n",
      "   2273  1631  2769  2048   374  7600   333  3776  2225   737   163    20\n",
      "    912  3783   141   374  1959     8   203  5274    57  2744   374     0\n",
      "      0     0     0     0]]\n",
      "예측 요약 :  govt denies reports of making employees from ayodhya\n",
      "\n",
      "\n",
      "원문 : former khalistani terrorist jaspal atwal friday apologised embarrassing canada india community family form terrorism advocate independent sikh nation added notably atwal canadian authorities slammed invited attend function hosted canadian pm justin trudeau visit india\n",
      "실제 요약 : apologises for india canada\n",
      "[[   26 12818  1129 20068 13612    58  1270 10778  1106     2   799   113\n",
      "    746  1128  4170  1771  1915   541     4   105 13612  1575   324   372\n",
      "   1808  1607  2405  2179  1575    49  2394  3131   384     2     0     0\n",
      "      0     0     0     0]]\n"
     ]
    },
    {
     "name": "stdout",
     "output_type": "stream",
     "text": [
      "예측 요약 :  canada man who is terrorism to be terrorism\n",
      "\n",
      "\n",
      "원문 : ride hailing startup uber friday launched service called croatia uber accommodate people connect major tourist spots along country coast price hiring distance km mainland island cost riders approximately\n",
      "실제 요약 : uber launches service in croatia\n",
      "[[1443 1467  104  428   58  187  333   65 4576  428 5923   10 3389  448\n",
      "  2900 5246  263   39 1798  646 5114 2021  675 9187 1577  569 2491 3350\n",
      "     0    0    0    0    0    0    0    0    0    0    0    0]]\n",
      "예측 요약 :  uber to launch its first self in us\n",
      "\n",
      "\n",
      "원문 : according reports actor akshay kumar starring film tentatively titled land lungi film remake starrer tamil film akshay seen role film reportedly also feature actress tamannaah bhatia starred original film\n",
      "실제 요약 : akshay to star in upcoming film land of lungi reports\n",
      "[[   56    31    50   886   162  1514    15 10979  1279   609  9491    15\n",
      "   4383   566   389    15   886   161   347    15    22     6   447    81\n",
      "  15231  6818  3102  1718    15     0     0     0     0     0     0     0\n",
      "      0     0     0     0]]\n",
      "예측 요약 :  akshay kumar to star in akshay kumar padman report\n",
      "\n",
      "\n",
      "원문 : delhi court saturday granted bail sacked aam aadmi party leader kapil mishra connection defamation case filed health minister satyendar jain jain filed criminal complaint mishra accused jain paying crore bribe chief minister arvind kejriwal\n",
      "실제 요약 : ex aap leader kapil mishra granted bail in defamation case\n",
      "[[   27    20    85  1201  1186  3044  4572  4261    57    89   913  2261\n",
      "   1001  3125    78   193   433    14 10119  2206  2206   193  1101   474\n",
      "   2261    45  2206  1745    18  4154    47    14  1122   836     0     0\n",
      "      0     0     0     0]]\n",
      "예측 요약 :  kejriwal files defamation case against kapil mishra\n",
      "\n",
      "\n",
      "원문 : ganesh across mumbai demanding noise norms silent zones city relaxed ganeshotsav silent zones areas within metres hospitals courts educational religious institutions noise levels must exceed notably state government also asked relaxation silence zones norms ahead festival\n",
      "실제 요약 : ganesh in mumbai oppose silence zones\n",
      "[[ 4797   252    76  1190  4072  2478  4732  5793   172 13108 17801  4732\n",
      "   5793   947   304  1470  2556  2769  3059  1258  2310  4072  1996   623\n",
      "  10278   105    21     8     6    67 12122  3253  5793  2478   378   878\n",
      "      0     0     0     0]]\n",
      "예측 요약 :  mumbai high court to stop from diwali\n",
      "\n",
      "\n",
      "원문 : indian railways recorded worst performance three years almost trains running late official data revealed percentage express mail trains ran time declined railways attributed lowered performance massive maintenance work undertaken department\n",
      "실제 요약 : trains were late last year worst in years\n",
      "[[  11 1125 1116 1894  992   30   23  843 1754 1055  457  151  143   79\n",
      "  4094 1433 5431 1754 1687   28 3086 1125 3896 6681  992 2686 2938  142\n",
      "  6364  271    0    0    0    0    0    0    0    0    0    0]]\n",
      "예측 요약 :  railways to get lakh for first time\n",
      "\n",
      "\n",
      "원문 : actress aishwarya rai bachchan talking cosmetic surgery said people make informed choices know science making choices extremely important added aishwarya said twenty years ago asked would ever colour hair would said\n",
      "실제 요약 : people must make choices aish on surgery\n",
      "[[   81  2033  1329   628   170 12487  1751     1    10   118  1063  5875\n",
      "    393  1717   235  5875  2426  1073     4  2033     1  2985    23   411\n",
      "     67    24   216  2121  1700    24     1     0     0     0     0     0\n",
      "      0     0     0     0]]\n",
      "예측 요약 :  aishwarya is aishwarya rai\n",
      "\n",
      "\n",
      "원문 : addressing public ahead telangana assembly elections telangana cm chandrashekar rao said congress comes power state become blind rao also announced free electricity farmers added next year given farmers one acre land added government working without corruption\n",
      "실제 요약 : telangana will become blind if congress comes to power cm\n",
      "[[ 787  178  378 1095  273  173 1095   75 6822  766    1   37   61  329\n",
      "    21  182 4297  766    6   94  359 1814  676    4  164    3  242  676\n",
      "    17 6164  609    4    8  264  195  830    0    0    0    0]]\n",
      "예측 요약 :  telangana cm power to make power from telangana\n",
      "\n",
      "\n",
      "원문 : bjp national president amit shah said saturday ram temple ayodhya constructed legal manner party stand clear mentioned last four lok sabha election temple constructed legal manner mutual dialogue said visit uttar pradesh\n",
      "실제 요약 : ram temple should be in legal amit shah\n",
      "[[  38   83   16  957  229    1   85  343  532 2341 3342  821 3216   57\n",
      "  1094 1357 2518   29   82  643  422  362  532 3342  821 3216 4805 2464\n",
      "     1  384  157   55    0    0    0    0    0    0    0    0]]\n",
      "예측 요약 :  ram temple will be built in ayodhya bjp mp\n",
      "\n",
      "\n",
      "원문 : electric carmaker tesla lost around billion market capitalisation company ceo elon musk cut analysts questions conference call wednesday boring questions cool musk said asked tesla capital requirements asked tesla reservations added questions dry killing\n",
      "실제 요약 : tesla loses bn after musk calls questions boring\n",
      "[[ 782 2923  616  283   68   74  377 2072   32  122  925  552  657 8165\n",
      "  1928 1276  601   60 4179 1928 5115  552    1   67  616  256 5396   67\n",
      "   616 6836    4 1928 5319  895    0    0    0    0    0    0]]\n",
      "예측 요약 :  musk says tesla investor tweets user on bn stock\n",
      "\n",
      "\n",
      "원문 : russian space agency friday launched unmanned soyuz rocket cargo vessel kazakhstan first launch international space station since aborted mission october russian cosmonaut us astronaut nick hague made emergency landing earth soyuz rocket carrying iss malfunctioned minutes launch\n",
      "실제 요약 : russia launches first rocket to iss since accident\n",
      "[[  357   300   489    58   187  7468  9151  1456  4346  5212  7897     7\n",
      "    470   121   300   458   101 15652   933   506   357 12048     5  3368\n",
      "   1902 19894    54   892  1722   540  9151  1456   744  5276 11867   509\n",
      "    470     0     0     0]]\n",
      "예측 요약 :  russia launches rocket to iss for rocket\n",
      "\n",
      "\n",
      "원문 : fortis healthcare saturday said supreme court ordering status quo deal ihh healthcare impact company stake sale malaysian firm order could however impact ihh proposed open offer acquire additional stake fortis open offer scheduled launched december january\n",
      "실제 요약 : sc order does not impact stake sale to fortis\n",
      "[[ 4731  2278    85     1   163    20  5610  1204 10746   228 15269  2278\n",
      "   1790    32   700   673  4480   286   247    84   100  1790 15269   712\n",
      "    246   854  2420  1454   700  4731   246   854   408   187   344   407\n",
      "      0     0     0     0]]\n",
      "예측 요약 :  fortis to sell stake in fortis shares\n",
      "\n",
      "\n",
      "원문 : chinese french researchers demonstrated silicon naturally hard grown shaped could undergo stretching twice original length still maintain conductive properties researchers converted silicon potential applications electronics\n",
      "실제 요약 : scientists turn hard to silicon\n",
      "[[  281   588   226  5141  5076  7489  1349  3884  3794    84  3672 13148\n",
      "   1565  1718  4901   490  2711 18990  1817   226  4369  5076  1638  2399\n",
      "   2659     0     0     0     0     0     0     0     0     0     0     0\n",
      "      0     0     0     0]]\n",
      "예측 요약 :  scientists find new printed with\n",
      "\n",
      "\n",
      "원문 : reality tv star kim kardashian sister khlo kardashian given birth baby girl amid rumours partner basketball player thompson cheating newborn first child together earlier videos surfaced online showed kissing women however since baby birth khlo reportedly forgiven\n",
      "실제 요약 : gives birth to baby girl amid rumour of cheating partner\n",
      "[[ 1412   704   303  1010  6290  1038 20644  6290   242   848   695   148\n",
      "    380  1571  1298  4712   327 10386  2738  3779     7   386   513    34\n",
      "   1112   943   221   670  4796    51   100   101   695   848 20644    22\n",
      "  19907     0     0     0]]\n",
      "예측 요약 :  kim kardashian kate kate baby baby girl\n",
      "\n",
      "\n",
      "원문 : upper house japanese parliament friday passed legislation paving way year old emperor law sets stage first reigning monarch two centuries heart surgery throne japan since death father\n",
      "실제 요약 : japan passes landmark bill to allow to step down\n",
      "[[ 3587   138  1012   604    58   438  4904 20444   279     3    13  8162\n",
      "    240  1728  1057     7 10329 11597    12  3306  1024  1751  8518   678\n",
      "    101   176   227     0     0     0     0     0     0     0     0     0\n",
      "      0     0     0     0]]\n",
      "예측 요약 :  longest longest longest wins in us\n",
      "\n",
      "\n",
      "원문 : australian batsman david warner year old daughter ivy may warner seen running towards life size poster father placed next television set giving hug warner post instagram read brought tear eye morning daughter spots distance runs give\n",
      "실제 요약 : video warner daughter hugs life size poster of him\n",
      "[[  311   518  1250  2132     3    13   266 14568   117  2132   161  1055\n",
      "    468   137  2135  1343   227  1252   164   827   126   770  5287  2132\n",
      "    168   387   331   946  7104  2133  1453   266  5246  2021   272   354\n",
      "      0     0     0     0]]\n"
     ]
    },
    {
     "name": "stdout",
     "output_type": "stream",
     "text": [
      "예측 요약 :  warner son posts picture of daughter\n",
      "\n",
      "\n",
      "원문 : union minister jayant sinha said government make air india maharaja beggar become upa rule air india kept independent run indians added government wednesday said sell stake air india stake subsidiary air india express\n",
      "실제 요약 : we will make air india union minister\n",
      "[[  181    14  5068  1219     1     8   118   132     2 10402 13763   182\n",
      "   3727  1521   132     2  1164  1771   206   688     4     8    60     1\n",
      "   1017   700   132     2   700  3920   132     2  1433     0     0     0\n",
      "      0     0     0     0]]\n",
      "예측 요약 :  no air india not for air india jayant sinha\n",
      "\n",
      "\n",
      "원문 : indian railways earned additional revenue crore less year fare scheme scheme applicable rajdhani shatabdi duronto launched september fare increases every seats sold official said additional passengers added plan discontinue\n",
      "실제 요약 : railways earned crore through fare scheme\n",
      "[[   11  1125  1650  1454   847    18   743     3  4877   966   966  5414\n",
      "   8777 11162 17329   187   414  4877  7980   259   800   753   151     1\n",
      "   1454   410     4   730 12023     0     0     0     0     0     0     0\n",
      "      0     0     0     0]]\n",
      "예측 요약 :  railways earned crore in trains in months\n",
      "\n",
      "\n",
      "원문 : us based study shown butterfly shaped winds ejected two co orbiting black holes combination gases ejected stars likely stopped galaxy star formation galaxies universe hold one supermassive black hole centre galaxy contains two would eventually spiral crash noted researchers\n",
      "실제 요약 : shaped winds from black holes stop star formation\n",
      "[[    5    35   515  2077 12140  3794  5307 14812    12   220  6360   578\n",
      "   5229  6828  8747 14812   828  1167   995  2555   303  3337  6151  2553\n",
      "   1091    17 14929   578  3172   203  2555  4887    12    24  3217 13385\n",
      "   1907  2899   226     0]]\n",
      "예측 요약 :  scientists claim of black hole in milky way\n",
      "\n",
      "\n",
      "원문 : million muslims mostly women signed petition moved rss affiliated muslim rashtriya manch practice triple talaq representatives state government must come sit together start debate muslim women claim human status stated\n",
      "실제 요약 : over lakh muslims sign rss petition against triple talaq\n",
      "[[  53 1189 4417   51  825 1088 1226 1318 5717  618 4176 9591 1647 1778\n",
      "  2092 4351   21    8  623  262 2260  513  631 3111  618   51  952  312\n",
      "  1204  501    0    0    0    0    0    0    0    0    0    0]]\n",
      "예측 요약 :  muslim women to triple talaq muslim president\n",
      "\n",
      "\n",
      "원문 : uk ban plastic used cosmetics personal care products came effect tuesday added products act move aimed protecting marine life small enter water bodies get absorbed eaten wildlife affecting growth\n",
      "실제 요약 : uk ban on plastic takes effect\n",
      "[[  210   400  1366    99 10945   608  1395   788   232  1608    59     4\n",
      "    788   486   367   912  4556  3856   137   890  1411   255  1428   119\n",
      "   9886  9413  4360  5310   838     0     0     0     0     0     0     0\n",
      "      0     0     0     0]]\n",
      "예측 요약 :  uk bans use of its own own own\n",
      "\n",
      "\n",
      "원문 : form rock climbing without ropes may effectively treat symptoms depression us based study claims study divided individuals two groups one joined eight week course later researchers found specific depression score group started early dropped way wait listed group\n",
      "실제 요약 : rock may help treat depression study\n",
      "[[  746  2815  6191   195 11909   117  5886  3085  7666  3189     5    35\n",
      "    515   503   515  7116  2225    12  1139    17   996   368   179  1893\n",
      "    158   226    80  3292  3189   742    97   267   998  1296   279  2695\n",
      "   1947    97     0     0]]\n",
      "예측 요약 :  researchers have rainfall to prevent brain\n",
      "\n",
      "\n",
      "원문 : police karnataka nagar directed schools introduce sms system share instant updates whereabouts safety children parents schools dismissed move parents said may possible send sms daily majority working\n",
      "실제 요약 : luru schools asked to start sms updates for student safety\n",
      "[[   9  269 3117  239  829 2918 7311  253  370 4330 6254 8428  822  201\n",
      "   574  829  893  367  574    1  117 1114 1165 7311 1407 1408  264    0\n",
      "     0    0    0    0    0    0    0    0    0    0    0    0]]\n",
      "예측 요약 :  taka schools to get schools to schools\n",
      "\n",
      "\n",
      "원문 : world bank group monday said double year investments billion fight climate change fund aid high quality forecasts early warning systems climate information services world bank contribute billion rest raised international finance corporation multilateral investment guarantee agency private capital\n",
      "실제 요약 : world bank to raise billion to fight climate change\n",
      "[[   19   115    97    62     1  1239     3  2524    74   693  1689   528\n",
      "    598  1929    96  1304 15043   998  1671  1670  1689   335   316    19\n",
      "    115  5015    74  1908   296   121   441   818 17082   741  5676   489\n",
      "    352   256     0     0]]\n",
      "예측 요약 :  world bank could have been billion dollar imf\n",
      "\n",
      "\n",
      "원문 : twitter ceo jack dorsey recent interview said conservative employees company feel safe express opinions work feel broader percentage within company think fair right added ceo earlier said company left leaning\n",
      "실제 요약 : employees at twitter do not feel safe ceo\n",
      "[[  133   122  2454  5408   451   919     1  6361   322    32   824  1580\n",
      "   1433  7726   142   824 12685  4094   304    32   390  2403   309     4\n",
      "    122    34     1    32   287 10385     0     0     0     0     0     0\n",
      "      0     0     0     0]]\n",
      "예측 요약 :  twitter ceo is open on twitter\n",
      "\n",
      "\n",
      "원문 : tharoor questioned google search results south indian masala showed pictures women terming bizarre disgraceful tharoor shared twitter user post compared search screenshots wherein north indian masala gave results regular spices used cooking asked google ceo sundar pichai explain fix issue\n",
      "실제 요약 : tharoor asks google to fix search for south indian masala\n",
      "[[ 2070  1269   183   983  1214   136    11  9055   670   582    51  3502\n",
      "  13158 13698  2070   207   133   184   168   795   983  7242  1217   150\n",
      "     11  9055   612  1214  3118 17351    99  6379    67   183   122  3912\n",
      "   3969  3973  2997   373]]\n",
      "예측 요약 :  magazine cover shows priyanka for calling india\n",
      "\n",
      "\n",
      "원문 : chinese soldiers road building machines reportedly crossed metres indian territory arunachal pradesh late december reports state locals informed indian army intrusion following latter intercepted chinese troops seized machines comes months day standoff indian chinese troops doklam\n",
      "실제 요약 : china into arunachal with road equipment reports\n",
      "[[  281  1197   527   526  2188    22  2913  1470    11  2264  3798    55\n",
      "    457   344    31    21  2040  1063    11   268 17068    95  1799  4865\n",
      "    281  1730  1098  2188    61   202    43  4028    11   281  1730  4285\n",
      "      0     0     0     0]]\n",
      "예측 요약 :  china deploys road to build chinese road road reports\n",
      "\n",
      "\n",
      "원문 : singapore based venture fund temasek holdings venture capital arm monday announced raised million funding plans invest fund southeast asian indian startups across enterprise technology financial technology consumer internet previous two funds southeast asia fully funded temasek holdings\n",
      "실제 요약 : venture capital arm raises million\n",
      "[[1259   35 1135  598 9344 3627 1135  256 1536   62   94  296   53  446\n",
      "   536 1774  598 5510  865   11 1837  252 6228  205  467  205 1655  916\n",
      "   611   12  945 5510  906 2295 4251 9344 3627    0    0    0]]\n",
      "예측 요약 :  fund to invest mn in india funding\n",
      "\n",
      "\n",
      "원문 : sociology professor kashmir university among five militants killed encounter sunday hours joined militancy mohammad bhat went missing friday afternoon leading student protests university campus found trapped encounter police brought family persuade surrender succeed\n",
      "실제 요약 : prof killed in encounter hrs after joining militancy\n",
      "[[18677  2320   292   294   191    86   937   114  1852    88   274   996\n",
      "   7683  1537  7947   310   720    58  5841   956   473   852   294  2657\n",
      "     80  2424  1852     9   946   113 11961  6345  5863     0     0     0\n",
      "      0     0     0     0]]\n",
      "예측 요약 :  kashmiri student killed in encounter in\n",
      "\n",
      "\n",
      "원문 : estimated people saturday marched anti government protests romanian capital protesters marched towards parliament waving flags chanting thieves resign opposed government plans several corruption offences well proposed law could compromise independence judiciary\n",
      "실제 요약 : thousands take part in anti government protests in\n",
      "[[1281   10   85 9600  405    8  852 9433  256 2624 9600  468  604 9267\n",
      "  5499 7127 5154 2968 2436    8  536  155  830 4427  320  712  240   84\n",
      "  6575 1151 4964    0    0    0    0    0    0    0    0    0]]\n"
     ]
    },
    {
     "name": "stdout",
     "output_type": "stream",
     "text": [
      "예측 요약 :  protesters demanding vote for demanding strike\n",
      "\n",
      "\n",
      "원문 : finance ministry friday clarified gst levied food drinks supplied indian railways irctc trains platforms stations earlier march irctc introduced use point sale machines trains many passengers filed complaints train vendors overcharging passengers\n",
      "실제 요약 : gst on railway services in trains stations\n",
      "[[  441   224    58  1557   559  6166   334  5138  7530    11  1125  8348\n",
      "   1754  2463  1503    34   361  8348  1280   230  1158   673  2188  1754\n",
      "    212   410   193  1590   444  6340 12829   410     0     0     0     0\n",
      "      0     0     0     0]]\n",
      "예측 요약 :  railways to train trains to trains to be fares\n",
      "\n",
      "\n",
      "원문 : wishing class class students board exams prime minister narendra modi monday said best luck young friends appearing cbse class xii class examinations added write exams smile lots confidence earlier pm modi written book exam warriors help students\n",
      "실제 요약 : pm modi wishes class class students for board exams\n",
      "[[ 2757   437   437   189   171  2693   154    14   110    46    62     1\n",
      "    261  5824  1177   791  3937  2557   437 13882   437  4259     4  2987\n",
      "   2693  5574  5851  1905    34    49    46   674  1015  1830  6727   147\n",
      "    189     0     0     0]]\n",
      "예측 요약 :  pm modi declares class exams in class exam\n",
      "\n",
      "\n",
      "원문 : asked rumours dating ranbir kapoor tv chat show alia bhatt covered face said mera ho gaya hai talking rumours dating co stars including sidharth malhotra varun dhawan said even something going want accept\n",
      "실제 요약 : alia covers her face when asked about dating ranbir\n",
      "[[  67 1571 1392 1194  140  704 3365  166 1244 1271 2697  366    1 8157\n",
      "  2979 6085  871  170 1571 1392  220  828   77 3227 2406 1550 1238    1\n",
      "   204  967  395  278 1886    0    0    0    0    0    0    0]]\n",
      "예측 요약 :  alia bhatt calls ranbir alia bhatt\n",
      "\n",
      "\n",
      "원문 : us president donald trump wednesday retweeted three anti muslim videos posted deputy leader british far right group britain first one videos shows muslim man destroying virgin mary statue notably facing several charges including causing aggravated harassment using threatening abusive language\n",
      "실제 요약 : us president trump retweets three anti muslim videos\n",
      "[[    5    16   123    42    60  6669    30   405   618  1112   360   857\n",
      "     89   561   640   309    97  1999     7    17  1112   426   618    36\n",
      "   5094  4123  4883  1413   105  1044   155   648    77  1755 13524   629\n",
      "    153  2245  5880  1409]]\n",
      "예측 요약 :  trump launches anti sikh riots in the video\n",
      "\n",
      "\n",
      "원문 : amid reports chinese troops indian side border arunachal pradesh china wednesday said never acknowledged existence called arunachal pradesh want mention china india well developed mechanism border related affairs added china claims arunachal pradesh part south tibet\n",
      "실제 요약 : never of arunachal pradesh china\n",
      "[[ 380   31  281 1730   11  497  591 3798   55  102   60    1  293 5409\n",
      "  5207   65 3798   55  278 5468  102    2  320  592 4202  591  802  584\n",
      "     4  102  503 3798   55  111  136 6190    0    0    0    0]]\n",
      "예측 요약 :  india china agree to maintain chinese envoy\n",
      "\n",
      "\n",
      "원문 : self taught chef recently received first michelin star restaurant homeless slept streets paris born lebanese parents year old alan arrived paris around two decades ago paris cooking skills noticed chef restaurant washed dishes\n",
      "실제 요약 : chef who was once homeless gets star\n",
      "[[  634  3841  5730   194   254     7 12234   303  1364  5130  8946  3648\n",
      "   1487   778 11695   574     3    13  9166  1933  1487    68    12  2912\n",
      "    411  1487  6379  3596  4027  5730  1364  6074  7223     0     0     0\n",
      "      0     0     0     0]]\n",
      "예측 요약 :  michael launches its first ever citizen of\n",
      "\n",
      "\n",
      "원문 : austrian police fined man country recently established ban full face veils wearing shark suit public man posing mascot electronics retail chain vienna attract customers refused remove shark head telling police work\n",
      "실제 요약 : austrian police fine man in shark suit under burqa ban\n",
      "[[ 6734     9  1838    36    39   194  3104   400   767   366 18251   702\n",
      "   8181  3165   178    36  3151 11270  2659  1683  1677 11374  4004   749\n",
      "    576  1556  8181   371  3143     9   142     0     0     0     0     0\n",
      "      0     0     0     0]]\n",
      "예측 요약 :  man fined for making of banned in us\n",
      "\n",
      "\n"
     ]
    }
   ],
   "source": [
    "for i in range(50, 100):\n",
    "    print(\"원문 :\", seq2text(encoder_input_test[i]))\n",
    "    print(\"실제 요약 :\", seq2summary(decoder_input_test[i]))\n",
    "    print(\"예측 요약 :\", decode_sequence(encoder_input_test[i].reshape(1, text_max_len)))\n",
    "    print(\"\\n\")"
   ]
  },
  {
   "cell_type": "markdown",
   "id": "86cd294c",
   "metadata": {},
   "source": [
    "# Step 5. Summa을 이용해서 추출적 요약해보기"
   ]
  },
  {
   "cell_type": "markdown",
   "id": "46bad5ee",
   "metadata": {},
   "source": [
    "추상적 요약은 추출적 요약과는 달리 문장의 표현력을 다양하게 가져갈 수 있지만, 추출적 요약에 비해서 난이도가 높아요. 반대로 말하면 추출적 요약은 추상적 요약에 비해 난이도가 낮고 기존 문장에서 문장을 꺼내오는 것이므로 잘못된 요약이 나올 가능성이 낮아요.\n",
    "\n",
    "Summa의 summarize를 사용하여 추출적 요약을 해보세요."
   ]
  },
  {
   "cell_type": "markdown",
   "id": "8349eeef",
   "metadata": {},
   "source": [
    "## 데이터 다운로드하기"
   ]
  },
  {
   "cell_type": "code",
   "execution_count": 113,
   "id": "c77f3788",
   "metadata": {},
   "outputs": [],
   "source": [
    "import requests\n",
    "from summa.summarizer import summarize"
   ]
  },
  {
   "cell_type": "code",
   "execution_count": 114,
   "id": "932b3fd3",
   "metadata": {},
   "outputs": [],
   "source": [
    "text = requests.get('http://rare-technologies.com/the_matrix_synopsis.txt').text"
   ]
  },
  {
   "cell_type": "code",
   "execution_count": 115,
   "id": "5898c928",
   "metadata": {},
   "outputs": [
    {
     "name": "stdout",
     "output_type": "stream",
     "text": [
      "The screen is filled with green, cascading code which gives way to the title, The Matrix.\r\n",
      "\r\n",
      "A phone rings and text appears on the screen: \"Call trans opt: received. 2-19-98 13:24:18 REC: Log>\" As a conversation takes place between Trinity (Carrie-Anne Moss) and Cypher (Joe Pantoliano), two free humans, a table of random green numbers are being scanned and individual numbers selected, creating a series of digits not unlike an ordinary phone number, as if a code is being deciphered or a call is being traced.\r\n",
      "\r\n",
      "Trinity discusses some unknown person. Cypher taunts Trinity, suggesting she enjoys watching him. Trinity counters that \"Morpheus (Laurence Fishburne) says he may be 'the One',\" just as the sound of a number being selected alerts Trinity that someone may be tracing their call. She ends the call.\r\n",
      "\r\n",
      "Armed policemen move down a darkened, decrepit hallway in the Heart O' the City Hotel, their flashlight beam bouncing just ahead of them. They come to room 303, kick down the door and find a woman dressed in black, facing away from them. It's Trinity. She brings her hands up from the laptop she's working on at their command.\r\n",
      "\r\n",
      "Outside the hotel a car drives up and three agents appear in neatly pressed black suits. They are Agent Smith (Hugo Weaving), Agent Brown (Paul Goddard), and Agent Jones (Robert Taylor). Agent Smith and the presiding police lieutenant argue. Agent Smith admonishes the policeman that they were given specific orders to contact the agents first, for their\n"
     ]
    }
   ],
   "source": [
    "print(text[:1500])"
   ]
  },
  {
   "cell_type": "markdown",
   "id": "8feab99f",
   "metadata": {},
   "source": [
    "## summarize 사용하기"
   ]
  },
  {
   "cell_type": "code",
   "execution_count": 116,
   "id": "918ee110",
   "metadata": {},
   "outputs": [
    {
     "name": "stdout",
     "output_type": "stream",
     "text": [
      "Summary:\n",
      "Morpheus, Trinity, Neo, Apoc, Switch, Mouse and Cypher are jacked into the Matrix.\n",
      "Trinity brings the helicopter down to the floor that Morpheus is on and Neo opens fire on the three Agents.\n"
     ]
    }
   ],
   "source": [
    "print('Summary:')\n",
    "print(summarize(text, ratio=0.005))"
   ]
  },
  {
   "cell_type": "code",
   "execution_count": 117,
   "id": "702e1f55",
   "metadata": {},
   "outputs": [
    {
     "name": "stdout",
     "output_type": "stream",
     "text": [
      "Summary:\n",
      "['Morpheus, Trinity, Neo, Apoc, Switch, Mouse and Cypher are jacked into the Matrix.', 'Trinity brings the helicopter down to the floor that Morpheus is on and Neo opens fire on the three Agents.']\n"
     ]
    }
   ],
   "source": [
    "print('Summary:')\n",
    "print(summarize(text, ratio=0.005, split=True))"
   ]
  },
  {
   "cell_type": "code",
   "execution_count": 118,
   "id": "c6ededb8",
   "metadata": {},
   "outputs": [
    {
     "name": "stdout",
     "output_type": "stream",
     "text": [
      "Summary:\n",
      "Trinity takes Neo to Morpheus.\n",
      "Morpheus, Trinity, Neo, Apoc, Switch, Mouse and Cypher are jacked into the Matrix.\n",
      "Trinity brings the helicopter down to the floor that Morpheus is on and Neo opens fire on the three Agents.\n"
     ]
    }
   ],
   "source": [
    "print('Summary:')\n",
    "print(summarize(text, words=50))"
   ]
  },
  {
   "cell_type": "markdown",
   "id": "29f390bb",
   "metadata": {},
   "source": [
    "# 회고"
   ]
  },
  {
   "cell_type": "markdown",
   "id": "9b6d1823",
   "metadata": {},
   "source": [
    "마크다운 파일로 따로 제작하였음."
   ]
  }
 ],
 "metadata": {
  "kernelspec": {
   "display_name": "Python 3 (ipykernel)",
   "language": "python",
   "name": "python3"
  },
  "language_info": {
   "codemirror_mode": {
    "name": "ipython",
    "version": 3
   },
   "file_extension": ".py",
   "mimetype": "text/x-python",
   "name": "python",
   "nbconvert_exporter": "python",
   "pygments_lexer": "ipython3",
   "version": "3.9.7"
  }
 },
 "nbformat": 4,
 "nbformat_minor": 5
}
